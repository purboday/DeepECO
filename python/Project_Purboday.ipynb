{
 "cells": [
  {
   "cell_type": "markdown",
   "metadata": {},
   "source": [
    "Energy Disaggregation using Neural Networks\n",
    "======================================="
   ]
  },
  {
   "cell_type": "code",
   "execution_count": 23,
   "metadata": {},
   "outputs": [],
   "source": [
    "import sys\n",
    "import numpy as np\n",
    "sys.path.append(\"c:/python34/lib/site-packages\")\n",
    "import keras\n",
    "import pandas as pd\n",
    "from datetime import datetime as dt\n",
    "import math\n",
    "from keras.models import Sequential\n",
    "from keras.layers import Dense, Dropout, Flatten\n",
    "from keras.layers import Conv2D, Conv1D, MaxPooling2D, LSTM, Bidirectional\n",
    "from keras import regularizers\n",
    "import keras.callbacks as cb\n",
    "from matplotlib import pyplot as plt\n",
    "import random"
   ]
  },
  {
   "cell_type": "markdown",
   "metadata": {},
   "source": [
    "The following functions are used to extract the time and day information from a timestamp value."
   ]
  },
  {
   "cell_type": "code",
   "execution_count": 2,
   "metadata": {},
   "outputs": [],
   "source": [
    "def get_month(timevals):\n",
    "    return dt.fromtimestamp(timevals).month\n",
    "def get_week(timevals):\n",
    "    return math.ceil(dt.fromtimestamp(timevals).day/7)\n",
    "def get_hour(timevals):\n",
    "    return dt.fromtimestamp(timevals).hour\n",
    "def get_minute(timevals):\n",
    "    return dt.fromtimestamp(timevals).minute\n",
    "def get_second(timevals):\n",
    "    return dt.fromtimestamp(timevals).second"
   ]
  },
  {
   "cell_type": "markdown",
   "metadata": {},
   "source": [
    "The following function normalizes each column of the input array by substracting the mean and dividing by the standard deviation."
   ]
  },
  {
   "cell_type": "code",
   "execution_count": 3,
   "metadata": {},
   "outputs": [],
   "source": [
    "def normalize_data(X):\n",
    "    for i in range(X.shape[1]):\n",
    "        if np.std(X[:,i]) < 1e-4:\n",
    "            den = 1e-4\n",
    "        else:\n",
    "            den = np.std(X[:,i])\n",
    "        X[:,i] = (X[:,i]-np.mean(X[:,i]))/den\n",
    "    return X"
   ]
  },
  {
   "cell_type": "markdown",
   "metadata": {},
   "source": [
    "This class is used as a callback for the model fit function which is used to calculate and store the losses after each batch iteration."
   ]
  },
  {
   "cell_type": "code",
   "execution_count": 4,
   "metadata": {},
   "outputs": [],
   "source": [
    "class LossHistory(cb.Callback):\n",
    "    def on_train_begin(self, logs={}):\n",
    "        self.losses = []\n",
    "\n",
    "    def on_batch_end(self, batch, logs={}):\n",
    "        batch_loss = logs.get('loss')\n",
    "        self.losses.append(batch_loss)\n"
   ]
  },
  {
   "cell_type": "markdown",
   "metadata": {},
   "source": [
    "Model Specification\n",
    "-------------------------------\n",
    "The following function is used to create the model."
   ]
  },
  {
   "cell_type": "code",
   "execution_count": 17,
   "metadata": {},
   "outputs": [],
   "source": [
    "def init_model():\n",
    "    model = Sequential()\n",
    "    model.add(Conv1D(16, 4, activation=\"relu\",\n",
    "                    input_shape=(7,1), padding=\"same\", strides=1))\n",
    "    model.add(Dropout(0.25))\n",
    "    model.add(Bidirectional(LSTM(128, return_sequences=True,\n",
    "                                  stateful=False), merge_mode='concat'))\n",
    "    model.add(Bidirectional(LSTM(256, return_sequences=False, stateful=False), merge_mode='concat'))\n",
    "    model.add(Dense(128, activation='relu'))\n",
    "    model.add(Dropout(0.5))\n",
    "    model.add(Dense(1, activation='sigmoid'))\n",
    "    model.add(Dropout(0.5))\n",
    "    model.compile(loss='mse', optimizer='adam')\n",
    "    return model"
   ]
  },
  {
   "cell_type": "markdown",
   "metadata": {},
   "source": [
    "The following function plots the losses against the epochs."
   ]
  },
  {
   "cell_type": "code",
   "execution_count": 6,
   "metadata": {},
   "outputs": [],
   "source": [
    "def plot_losses(losses):\n",
    "    plt.plot(losses)\n",
    "    plt.title('Loss per batch')\n",
    "    plt.show()"
   ]
  },
  {
   "cell_type": "markdown",
   "metadata": {},
   "source": [
    "Data Preprocessing\n",
    "------------------------------\n",
    "\n",
    "The following function takes as input the file path, the channel index and the quantity name as input and loads the appropriate data files. It then joins themains and the output quantity based on the timestamp values, extracts time features from the timestamp and splits the input and output into two arrays."
   ]
  },
  {
   "cell_type": "code",
   "execution_count": 8,
   "metadata": {},
   "outputs": [],
   "source": [
    "def loadData(path, index, name):\n",
    "    main11 = np.genfromtxt(path+'channel_1.dat', dtype = [int, float],)\n",
    "    main12 = np.genfromtxt(path1+'channel_2.dat', dtype = [int, float])\n",
    "    wash1 = np.genfromtxt(path1+'channel_'+index+'.dat', dtype = [int, float])\n",
    "    maindf1 = pd.DataFrame(main11)\n",
    "    maindf1.columns = [\"timestamp\", \"mains1\"]\n",
    "    maindf2 = pd.DataFrame(main12)\n",
    "    maindf2.columns = [\"timestamp\", \"mains2\"]\n",
    "    washdf1 = pd.DataFrame(wash1)\n",
    "    washdf1.columns = [\"timestamp\", name]\n",
    "    traindf1 = maindf1.merge(maindf2, on = ('timestamp'))\n",
    "    traindf1 = traindf1.merge(washdf1, how=\"inner\", on = ('timestamp'))\n",
    "    timevals = traindf1[\"timestamp\"]\n",
    "    traindf1[\"month\"] = timevals.apply(get_month)\n",
    "    traindf1[\"week\"] = timevals.apply(get_week)\n",
    "    traindf1[\"hour\"] = timevals.apply(get_hour)\n",
    "    traindf1[\"minute\"] = timevals.apply(get_minute)\n",
    "    traindf1[\"second\"] = timevals.apply(get_second)\n",
    "    y = traindf1[name].values\n",
    "    \n",
    "    X = np.column_stack((traindf1[\"month\"].values,traindf1[\"week\"].values,\n",
    "                     traindf1[\"hour\"].values,traindf1[\"minute\"].values,\n",
    "                     traindf1[\"second\"].values,traindf1[\"mains1\"].values,\n",
    "                     traindf1[\"mains2\"].values))\n",
    "   \n",
    "    return X,y"
   ]
  },
  {
   "cell_type": "markdown",
   "metadata": {},
   "source": [
    "Training and Testing\n",
    "-------------------------------\n",
    "\n",
    "The model is trained on the\"dishwasher\" appliance for house 1. The training set comprises 20000 samples and the testing set comprises 2000 samples. The loss curve is plotted. he predicted values are also plotted against the actual values forthe test set."
   ]
  },
  {
   "cell_type": "code",
   "execution_count": 22,
   "metadata": {},
   "outputs": [
    {
     "name": "stdout",
     "output_type": "stream",
     "text": [
      "Train on 20000 samples, validate on 2000 samples\n",
      "Epoch 1/20\n",
      " - 74s - loss: 0.1120 - val_loss: 0.0400\n",
      "Epoch 2/20\n",
      " - 65s - loss: 0.0899 - val_loss: 0.0400\n",
      "Epoch 3/20\n",
      " - 62s - loss: 0.0899 - val_loss: 0.0400\n",
      "Epoch 4/20\n",
      " - 68s - loss: 0.0899 - val_loss: 0.0400\n",
      "Epoch 5/20\n",
      " - 57s - loss: 0.0899 - val_loss: 0.0400\n",
      "Epoch 6/20\n",
      " - 62s - loss: 0.0899 - val_loss: 0.0400\n",
      "Epoch 7/20\n",
      " - 64s - loss: 0.0899 - val_loss: 0.0400\n",
      "Epoch 8/20\n",
      " - 61s - loss: 0.0899 - val_loss: 0.0400\n",
      "Epoch 9/20\n",
      " - 64s - loss: 0.0899 - val_loss: 0.0400\n",
      "Epoch 10/20\n",
      " - 63s - loss: 0.0899 - val_loss: 0.0400\n",
      "Epoch 11/20\n",
      " - 64s - loss: 0.0899 - val_loss: 0.0400\n",
      "Epoch 12/20\n",
      " - 62s - loss: 0.0899 - val_loss: 0.0400\n",
      "Epoch 13/20\n",
      " - 65s - loss: 0.0899 - val_loss: 0.0400\n",
      "Epoch 14/20\n",
      " - 65s - loss: 0.0899 - val_loss: 0.0400\n",
      "Epoch 15/20\n",
      " - 67s - loss: 0.0899 - val_loss: 0.0400\n",
      "Epoch 16/20\n",
      " - 65s - loss: 0.0899 - val_loss: 0.0400\n",
      "Epoch 17/20\n",
      " - 76s - loss: 0.0899 - val_loss: 0.0400\n",
      "Epoch 18/20\n",
      " - 65s - loss: 0.0899 - val_loss: 0.0400\n",
      "Epoch 19/20\n",
      " - 74s - loss: 0.0899 - val_loss: 0.0400\n",
      "Epoch 20/20\n",
      " - 69s - loss: 0.0899 - val_loss: 0.0400\n",
      "2000/2000 [==============================] - 5s 2ms/step\n",
      "0.04\n"
     ]
    },
    {
     "data": {
      "image/png": "[encoded data removed]",
      "text/plain": [
       "<Figure size 432x288 with 1 Axes>"
      ]
     },
     "metadata": {},
     "output_type": "display_data"
    },
    {
     "data": {
      "image/png": "[encoded data removed]",
      "text/plain": [
       "<Figure size 432x288 with 1 Axes>"
      ]
     },
     "metadata": {},
     "output_type": "display_data"
    }
   ],
   "source": [
    "\n",
    "path1 = (\"C:/Users/Purboday Ghosh/Downloads/low_freq/house_1/\")\n",
    "X, y = loadData(path1, \"6\", \"dishwasher\")\n",
    "y = y.reshape(len(y), 1)\n",
    "start = random.randrange(0, X.shape[0]-22000)\n",
    "X_train = X[start:start+20000,:]\n",
    "y_train = y[start:start+20000,:]\n",
    "#X_train,y_train = mini_batch(X,y,10000)\n",
    "X_test = X[start+20001:start+22001,:]\n",
    "y_test = y[start+20001:start+22001,:]\n",
    "#X_test,y_test = mini_batch(X,y,1000)\n",
    "X_train = normalize_data(X_train)\n",
    "X_test = normalize_data(X_test)\n",
    "X_train = X_train.reshape(X_train.shape[0], X_train.shape[1], 1)\n",
    "X_test = X_test.reshape(X_test.shape[0], X_test.shape[1], 1)\n",
    "model = init_model()\n",
    "history = LossHistory()\n",
    "model.fit(X_train, y_train, epochs=20, batch_size=256,\n",
    "                callbacks=[history],\n",
    "                validation_data=(X_test,y_test), verbose=2)\n",
    "score = model.evaluate(X_test, y_test, batch_size=16)\n",
    "print(score)\n",
    "plot_losses(history.losses)\n",
    "\n",
    "y_pred = model.predict(X_test)\n",
    "samples = range(len(y_test))\n",
    "plt.plot(samples,y_test, color='blue', linewidth=1, label = 'Observed') \n",
    "plt.plot(samples,y_pred, color='red', linewidth=1, label = 'Predicted') \n",
    "plt.title('Linear Regression')\n",
    "plt.legend()\n",
    "plt.xlabel('Samples')\n",
    "plt.ylabel('Power')\n",
    "plt.show()"
   ]
  },
  {
   "cell_type": "code",
   "execution_count": null,
   "metadata": {},
   "outputs": [],
   "source": []
  }
 ],
 "metadata": {
  "kernelspec": {
   "display_name": "Python 3",
   "language": "python",
   "name": "python3"
  },
  "language_info": {
   "codemirror_mode": {
    "name": "ipython",
    "version": 3
   },
   "file_extension": ".py",
   "mimetype": "text/x-python",
   "name": "python",
   "nbconvert_exporter": "python",
   "pygments_lexer": "ipython3",
   "version": "3.7.3"
  }
 },
 "nbformat": 4,
 "nbformat_minor": 2
}
