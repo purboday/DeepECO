{
 "cells": [
  {
   "cell_type": "markdown",
   "metadata": {},
   "source": [
    "Energy Disaggregation using Neural Networks\n",
    "======================================="
   ]
  },
  {
   "cell_type": "code",
   "execution_count": 1,
   "metadata": {},
   "outputs": [
    {
     "name": "stderr",
     "output_type": "stream",
     "text": [
      "Using TensorFlow backend.\n"
     ]
    }
   ],
   "source": [
    "import sys\n",
    "import numpy as np\n",
    "#sys.path.append(\"c:/python34/lib/site-packages\")\n",
    "import keras\n",
    "import pandas as pd\n",
    "from datetime import datetime as dt\n",
    "import math\n",
    "from keras.models import Sequential\n",
    "from keras.layers import Dense, Dropout, Flatten, GRU\n",
    "from keras.layers import Conv2D, Conv1D, MaxPooling2D, LSTM, Bidirectional, BatchNormalization, MaxPooling1D\n",
    "from keras import regularizers, initializers\n",
    "import keras.callbacks as cb\n",
    "from matplotlib import pyplot as plt\n",
    "import random\n",
    "import scipy.io"
   ]
  },
  {
   "cell_type": "markdown",
   "metadata": {},
   "source": [
    "The following functions are used to extract the time and day information from a timestamp value."
   ]
  },
  {
   "cell_type": "code",
   "execution_count": 2,
   "metadata": {},
   "outputs": [],
   "source": [
    "def get_month(timevals):\n",
    "    return dt.fromtimestamp(timevals).month\n",
    "def get_week(timevals):\n",
    "    return math.ceil(dt.fromtimestamp(timevals).day/7)\n",
    "def get_hour(timevals):\n",
    "    return dt.fromtimestamp(timevals).hour\n",
    "def get_minute(timevals):\n",
    "    return dt.fromtimestamp(timevals).minute\n",
    "def get_second(timevals):\n",
    "    return dt.fromtimestamp(timevals).second"
   ]
  },
  {
   "cell_type": "markdown",
   "metadata": {},
   "source": [
    "The following function normalizes each column of the input array by substracting the mean and dividing by the standard deviation."
   ]
  },
  {
   "cell_type": "code",
   "execution_count": 3,
   "metadata": {},
   "outputs": [],
   "source": [
    "def normalize_data(X):\n",
    "    for i in range(X.shape[1]):\n",
    "        if np.std(X[:,i]) < 1e-4:\n",
    "            den = 1e-4\n",
    "        else:\n",
    "            den = np.std(X[:,i])\n",
    "        X[:,i] = (X[:,i]-np.mean(X[:,i]))/den\n",
    "    return X"
   ]
  },
  {
   "cell_type": "markdown",
   "metadata": {},
   "source": [
    "This class is used as a callback for the model fit function which is used to calculate and store the losses after each batch iteration."
   ]
  },
  {
   "cell_type": "code",
   "execution_count": 4,
   "metadata": {},
   "outputs": [],
   "source": [
    "class LossHistory(cb.Callback):\n",
    "    def on_train_begin(self, logs={}):\n",
    "        self.losses = []\n",
    "\n",
    "    def on_batch_end(self, batch, logs={}):\n",
    "        batch_loss = logs.get('loss')\n",
    "        self.losses.append(batch_loss)\n"
   ]
  },
  {
   "cell_type": "markdown",
   "metadata": {},
   "source": [
    "Model Specification\n",
    "-------------------------------\n",
    "The following function is used to create the model."
   ]
  },
  {
   "cell_type": "markdown",
   "metadata": {},
   "source": [
    "The following function plots the losses against the epochs."
   ]
  },
  {
   "cell_type": "code",
   "execution_count": 5,
   "metadata": {},
   "outputs": [],
   "source": [
    "def plot_losses(losses):\n",
    "    plt.plot(losses)\n",
    "    plt.title('Loss per batch')\n",
    "    plt.show()"
   ]
  },
  {
   "cell_type": "markdown",
   "metadata": {},
   "source": [
    "Data Preprocessing\n",
    "------------------------------\n",
    "\n",
    "The following function takes as input the file path, the channel index and the quantity name as input and loads the appropriate data files. It then joins themains and the output quantity based on the timestamp values, extracts time features from the timestamp and splits the input and output into two arrays."
   ]
  },
  {
   "cell_type": "code",
   "execution_count": 6,
   "metadata": {},
   "outputs": [],
   "source": [
    "def loadData(path, index, name):\n",
    "    main11 = np.genfromtxt(path+'channel_1.dat', dtype = [int, float],)\n",
    "    main12 = np.genfromtxt(path1+'channel_2.dat', dtype = [int, float])\n",
    "    wash1 = np.genfromtxt(path1+'channel_'+index+'.dat', dtype = [int, float])\n",
    "    maindf1 = pd.DataFrame(main11)\n",
    "    maindf1.columns = [\"timestamp\", \"mains1\"]\n",
    "    maindf2 = pd.DataFrame(main12)\n",
    "    maindf2.columns = [\"timestamp\", \"mains2\"]\n",
    "    washdf1 = pd.DataFrame(wash1)\n",
    "    washdf1.columns = [\"timestamp\", name]\n",
    "    traindf1 = maindf1.merge(maindf2, on = ('timestamp'))\n",
    "    traindf1 = traindf1.merge(washdf1, how=\"inner\", on = ('timestamp'))\n",
    "    timevals = traindf1[\"timestamp\"]\n",
    "    traindf1[\"month\"] = timevals.apply(get_month)\n",
    "    traindf1[\"week\"] = timevals.apply(get_week)\n",
    "    traindf1[\"hour\"] = timevals.apply(get_hour)\n",
    "    traindf1[\"minute\"] = timevals.apply(get_minute)\n",
    "    traindf1[\"second\"] = timevals.apply(get_second)\n",
    "    mainR = scipy.io.loadmat(\"main_real.mat\")\n",
    "    mainI = scipy.io.loadmat(\"main_img.mat\")\n",
    "    main_real = mainR[\"main_real\"]\n",
    "    main_img = mainI[\"main_img\"]\n",
    "    #main_real = np.reshape(main_real,main_real.shape[0])\n",
    "    #main_img = np.reshape(main_img,main_img.shape[0])\n",
    "    y = traindf1[name].values\n",
    "    \n",
    "#     X = np.column_stack((traindf1[\"month\"].values,traindf1[\"week\"].values,\n",
    "#                      traindf1[\"hour\"].values,traindf1[\"minute\"].values,\n",
    "#                      traindf1[\"second\"].values,main_real, main_img))\n",
    "   \n",
    "    return y"
   ]
  },
  {
   "cell_type": "code",
   "execution_count": 7,
   "metadata": {},
   "outputs": [],
   "source": [
    "def create_seq(X):\n",
    "    res = []\n",
    "    for i in range(0,X.shape[0],1200):\n",
    "        res.append(X[i:i+1200,:])\n",
    "    res = np.array(res)\n",
    "    return res\n",
    "   "
   ]
  },
  {
   "cell_type": "markdown",
   "metadata": {},
   "source": [
    "Training and Testing\n",
    "-------------------------------\n",
    "\n",
    "The model is trained on the\"dishwasher\" appliance for house 1. The training set comprises 20000 samples and the testing set comprises 2000 samples. The loss curve is plotted. he predicted values are also plotted against the actual values forthe test set."
   ]
  },
  {
   "cell_type": "markdown",
   "metadata": {},
   "source": [
    "House 1:\n",
    "-------------"
   ]
  },
  {
   "cell_type": "code",
   "execution_count": 8,
   "metadata": {},
   "outputs": [],
   "source": [
    "path1 = (\"low_freq/house_1/\")\n",
    "y = loadData(path1, \"6\", \"dishwasher\")\n",
    "\n",
    "y = y.reshape(len(y), 1)"
   ]
  },
  {
   "cell_type": "code",
   "execution_count": 9,
   "metadata": {},
   "outputs": [],
   "source": [
    "y[y>0] = 1\n",
    "y[y<=0] = 0"
   ]
  },
  {
   "cell_type": "code",
   "execution_count": 10,
   "metadata": {},
   "outputs": [
    {
     "data": {
      "text/plain": [
       "(406748, 5)"
      ]
     },
     "execution_count": 10,
     "metadata": {},
     "output_type": "execute_result"
    }
   ],
   "source": [
    "X = scipy.io.loadmat(\"features1.mat\")\n",
    "X = X[\"feature\"]\n",
    "start = random.randrange(0, X.shape[0]-27601)\n",
    "X.shape"
   ]
  },
  {
   "cell_type": "code",
   "execution_count": 11,
   "metadata": {},
   "outputs": [],
   "source": [
    "# y = y.reshape(y.shape[0],y.shape[1], 1)\n",
    "# y.shape"
   ]
  },
  {
   "cell_type": "code",
   "execution_count": 12,
   "metadata": {},
   "outputs": [],
   "source": [
    "X_train = X[start:start+2400,3:5]\n",
    "y_train = y[start:start+2400]\n",
    "#X_train,y_train = mini_batch(X,y,10000)\n",
    "X_test = X[start+2401:start+2761,3:5]\n",
    "y_test = y[start+2401:start+2761]\n",
    "\n",
    "#X_test,y_test = mini_batch(X,y,1000)\n",
    "X_train = normalize_data(X_train)\n",
    "X_test = normalize_data(X_test)\n",
    "#X_train = X_train.reshape(X_train.shape[0], X_train.shape[1], 1)\n",
    "#X_test = X_test.reshape(X_test.shape[0], X_test.shape[1], 1)\n",
    "\n"
   ]
  },
  {
   "cell_type": "markdown",
   "metadata": {},
   "source": [
    "Model Specification\n",
    "-------------------------------\n",
    "The following function is used to create the model."
   ]
  },
  {
   "cell_type": "code",
   "execution_count": 15,
   "metadata": {
    "scrolled": true
   },
   "outputs": [],
   "source": [
    "from scipy import signal\n",
    "f1,t1,X_1 = signal.stft(X_train[:,0], window='hann', nperseg=120, noverlap = 119, nfft=None, detrend=False, return_onesided=True, boundary='zeros', padded=True, axis=-1)\n",
    "f2,t2,X_2 = signal.stft(X_train[:,1], window='hann', nperseg=120, noverlap = 119, nfft=None, detrend=False, return_onesided=True, boundary='zeros', padded=True, axis=-1)\n",
    "X_1=X_1[:,0:2400]\n",
    "X_2=X_2[:,0:2400]\n",
    "X_abs1 = normalize_data(abs(X_1.T))\n",
    "X_abs2 = normalize_data(abs(X_2.T))\n",
    "\n",
    "f11,t11,X_11 = signal.stft(X_test[:,0], window='hann', nperseg=120, noverlap = 119, nfft=None, detrend=False, return_onesided=True, boundary='zeros', padded=True, axis=-1)\n",
    "f22,t22,X_22 = signal.stft(X_test[:,1], window='hann', nperseg=120, noverlap = 119, nfft=None, detrend=False, return_onesided=True, boundary='zeros', padded=True, axis=-1)\n",
    "X_11=X_11[:,0:360]\n",
    "X_22=X_22[:,0:360]\n",
    "X_abs11 = normalize_data(abs(X_11.T))\n",
    "X_abs22 = normalize_data(abs(X_22.T))"
   ]
  },
  {
   "cell_type": "code",
   "execution_count": 16,
   "metadata": {},
   "outputs": [
    {
     "data": {
      "text/plain": [
       "(2400, 61)"
      ]
     },
     "execution_count": 16,
     "metadata": {},
     "output_type": "execute_result"
    }
   ],
   "source": [
    "X_abs1.shape"
   ]
  },
  {
   "cell_type": "code",
   "execution_count": 17,
   "metadata": {},
   "outputs": [
    {
     "data": {
      "text/plain": [
       "(2400, 122)"
      ]
     },
     "execution_count": 17,
     "metadata": {},
     "output_type": "execute_result"
    }
   ],
   "source": [
    "X_train_stft = np.concatenate((X_abs1,X_abs2), axis=1)\n",
    "X_test_stft = np.concatenate((X_abs11,X_abs22),axis=1)\n",
    "X_train_stft.shape"
   ]
  },
  {
   "cell_type": "code",
   "execution_count": 18,
   "metadata": {},
   "outputs": [],
   "source": [
    "def init_model():\n",
    "    model = Sequential()\n",
    "    \n",
    "    model.add(Conv1D(16, 4, activation=\"relu\", kernel_initializer=\"he_normal\",\n",
    "                    input_shape=(122,1), padding=\"same\", strides=1))\n",
    "    #model.add(BatchNormalization())\n",
    "    #model.add(Flatten())\n",
    "    \n",
    "    model.add(Dropout(0.25))\n",
    "   \n",
    "    model.add(Bidirectional(LSTM(256, return_sequences=True,\n",
    "                                  stateful=False), merge_mode='concat'))\n",
    "    model.add(Bidirectional(LSTM(128, return_sequences=True, stateful=False), merge_mode='concat'))\n",
    "    model.add(Dropout(0.2))\n",
    "    model.add(Bidirectional(LSTM(128, return_sequences=True, stateful=False), merge_mode='concat'))\n",
    "    model.add(Dropout(0.2))\n",
    "    model.add(Bidirectional(LSTM(64, return_sequences=True, stateful=False), merge_mode='concat'))\n",
    "    model.add(Dropout(0.2))\n",
    "    model.add(Bidirectional(GRU(64, return_sequences=False, stateful=False), merge_mode='concat'))\n",
    "    model.add(Dropout(0.2))\n",
    "    model.add(Dense(128, activation='relu'))\n",
    "    model.add(Dropout(0.25))\n",
    "    model.add(Dense(1, activation='sigmoid'))\n",
    "    model.add(Dropout(0.25))\n",
    "    model.compile(loss='binary_crossentropy', optimizer='adam')\n",
    "    return model"
   ]
  },
  {
   "cell_type": "code",
   "execution_count": 19,
   "metadata": {},
   "outputs": [
    {
     "data": {
      "text/plain": [
       "array([0.])"
      ]
     },
     "execution_count": 19,
     "metadata": {},
     "output_type": "execute_result"
    }
   ],
   "source": [
    "y_train[1]"
   ]
  },
  {
   "cell_type": "code",
   "execution_count": 29,
   "metadata": {
    "scrolled": true
   },
   "outputs": [
    {
     "name": "stdout",
     "output_type": "stream",
     "text": [
      "Train on 2400 samples, validate on 360 samples\n",
      "Epoch 1/20\n",
      " - 208s - loss: 0.1426 - val_loss: 0.1945\n",
      "Epoch 2/20\n",
      " - 191s - loss: 0.1089 - val_loss: 0.2308\n",
      "Epoch 3/20\n",
      " - 195s - loss: 0.1047 - val_loss: 0.2110\n",
      "Epoch 4/20\n",
      " - 194s - loss: 0.1032 - val_loss: 0.1860\n",
      "Epoch 5/20\n",
      " - 194s - loss: 0.0883 - val_loss: 0.2141\n",
      "Epoch 6/20\n",
      " - 194s - loss: 0.1047 - val_loss: 0.2420\n",
      "Epoch 7/20\n",
      " - 195s - loss: 0.1111 - val_loss: 0.2074\n",
      "Epoch 8/20\n",
      " - 198s - loss: 0.0823 - val_loss: 0.2033\n",
      "Epoch 9/20\n",
      " - 196s - loss: 0.1083 - val_loss: 0.1761\n",
      "Epoch 10/20\n",
      " - 197s - loss: 0.0926 - val_loss: 0.1819\n",
      "Epoch 11/20\n",
      " - 196s - loss: 0.1021 - val_loss: 0.1936\n",
      "Epoch 12/20\n",
      " - 197s - loss: 0.0867 - val_loss: 0.2007\n",
      "Epoch 13/20\n",
      " - 198s - loss: 0.0820 - val_loss: 0.2313\n",
      "Epoch 14/20\n",
      " - 196s - loss: 0.1017 - val_loss: 0.1824\n",
      "Epoch 15/20\n",
      " - 197s - loss: 0.1104 - val_loss: 0.2361\n",
      "Epoch 16/20\n",
      " - 198s - loss: 0.0917 - val_loss: 0.2300\n",
      "Epoch 17/20\n",
      " - 197s - loss: 0.0788 - val_loss: 0.2150\n",
      "Epoch 18/20\n",
      " - 196s - loss: 0.1182 - val_loss: 0.2386\n",
      "Epoch 19/20\n",
      " - 196s - loss: 0.1033 - val_loss: 0.2613\n",
      "Epoch 20/20\n",
      " - 196s - loss: 0.0857 - val_loss: 0.2652\n",
      "360/360 [==============================] - 5s 14ms/step\n",
      "0.2652366313462456\n"
     ]
    },
    {
     "data": {
      "image/png": "[encoded data removed]",
      "text/plain": [
       "<Figure size 432x288 with 1 Axes>"
      ]
     },
     "metadata": {
      "needs_background": "light"
     },
     "output_type": "display_data"
    }
   ],
   "source": [
    "model = init_model()\n",
    "history = LossHistory()\n",
    "# X_train = create_seq(X_train)\n",
    "# y_train = create_seq(y_train)\n",
    "# X_test = create_seq(X_test)\n",
    "# y_test = create_seq(y_test)\n",
    "X_train_stft = X_train_stft.reshape(X_train_stft.shape[0], X_train_stft.shape[1], 1)\n",
    "X_test_stft = X_test_stft.reshape(X_test_stft.shape[0], X_test_stft.shape[1], 1)\n",
    "model.fit(X_train_stft, y_train, epochs=20, batch_size=64,\n",
    "                callbacks=[history],\n",
    "                validation_data=(X_test_stft,y_test), verbose=2)\n",
    "score = model.evaluate(X_test_stft, y_test, batch_size=64)\n",
    "print(score)\n",
    "plot_losses(history.losses)\n",
    "\n",
    "y_pred = model.predict(X_test_stft)"
   ]
  },
  {
   "cell_type": "code",
   "execution_count": 30,
   "metadata": {},
   "outputs": [
    {
     "data": {
      "text/plain": [
       "array([[0.],\n",
       "       [0.],\n",
       "       [0.],\n",
       "       ...,\n",
       "       [0.],\n",
       "       [0.],\n",
       "       [0.]])"
      ]
     },
     "execution_count": 30,
     "metadata": {},
     "output_type": "execute_result"
    }
   ],
   "source": [
    "y_train"
   ]
  },
  {
   "cell_type": "code",
   "execution_count": 31,
   "metadata": {
    "scrolled": false
   },
   "outputs": [
    {
     "data": {
      "image/png": "[encoded data removed]",
      "text/plain": [
       "<Figure size 432x288 with 1 Axes>"
      ]
     },
     "metadata": {
      "needs_background": "light"
     },
     "output_type": "display_data"
    }
   ],
   "source": [
    "y_pred[y_pred > 0.5] = 1\n",
    "y_pred[y_pred <= 0.5] = 0\n",
    "samples = []\n",
    "data_test = []\n",
    "data_pred = []\n",
    "for i in range(len(y_test)):\n",
    "    samples.extend(list(range(len(samples),len(samples)+len(y_test[i]))))\n",
    "    data_test.extend(y_test[i])\n",
    "    data_pred.extend(y_pred[i])\n",
    "plt.plot(samples,data_test, color='blue', linewidth=1, label = 'Observed') \n",
    "plt.plot(samples,data_pred, color='red', linewidth=2, label = 'Predicted') \n",
    "plt.title('Linear Regression')\n",
    "plt.legend()\n",
    "plt.xlabel('Samples')\n",
    "plt.ylabel('Power')\n",
    "plt.show()"
   ]
  },
  {
   "cell_type": "markdown",
   "metadata": {},
   "source": [
    "=================================== X ===================================\n",
    "-----------"
   ]
  },
  {
   "cell_type": "markdown",
   "metadata": {},
   "source": [
    "House 2: \n",
    "-------------    "
   ]
  },
  {
   "cell_type": "markdown",
   "metadata": {},
   "source": [
    "Data Preprocessing\n",
    "------------------------------\n",
    "\n",
    "The following function takes as input the file path, the channel index and the quantity name as input and loads the appropriate data files. It then joins themains and the output quantity based on the timestamp values, extracts time features from the timestamp and splits the input and output into two arrays."
   ]
  },
  {
   "cell_type": "code",
   "execution_count": 23,
   "metadata": {},
   "outputs": [],
   "source": [
    "def loadData(path, index, name):\n",
    "    main11 = np.genfromtxt(path+'channel_1.dat', dtype = [int, float],)\n",
    "    main12 = np.genfromtxt(path1+'channel_2.dat', dtype = [int, float])\n",
    "    wash1 = np.genfromtxt(path1+'channel_'+index+'.dat', dtype = [int, float])\n",
    "    maindf1 = pd.DataFrame(main11)\n",
    "    maindf1.columns = [\"timestamp\", \"mains1\"]\n",
    "    maindf2 = pd.DataFrame(main12)\n",
    "    maindf2.columns = [\"timestamp\", \"mains2\"]\n",
    "    washdf1 = pd.DataFrame(wash1)\n",
    "    washdf1.columns = [\"timestamp\", name]\n",
    "    traindf1 = maindf1.merge(maindf2, on = ('timestamp'))\n",
    "    traindf1 = traindf1.merge(washdf1, how=\"inner\", on = ('timestamp'))\n",
    "    timevals = traindf1[\"timestamp\"]\n",
    "    traindf1[\"month\"] = timevals.apply(get_month)\n",
    "    traindf1[\"week\"] = timevals.apply(get_week)\n",
    "    traindf1[\"hour\"] = timevals.apply(get_hour)\n",
    "    traindf1[\"minute\"] = timevals.apply(get_minute)\n",
    "    traindf1[\"second\"] = timevals.apply(get_second)\n",
    "   \n",
    "    #main_real = np.reshape(main_real,main_real.shape[0])\n",
    "    #main_img = np.reshape(main_img,main_img.shape[0])\n",
    "    y = traindf1[name].values\n",
    "    \n",
    "    X = np.column_stack((traindf1[\"month\"].values,traindf1[\"week\"].values,\n",
    "                     traindf1[\"hour\"].values,traindf1[\"minute\"].values,\n",
    "                     traindf1[\"second\"].values,traindf1[\"mains1\"].values,\n",
    "                     traindf1[\"mains2\"].values))\n",
    "   \n",
    "    return X,y"
   ]
  },
  {
   "cell_type": "code",
   "execution_count": 25,
   "metadata": {},
   "outputs": [
    {
     "ename": "AttributeError",
     "evalue": "'tuple' object has no attribute 'reshape'",
     "output_type": "error",
     "traceback": [
      "\u001b[1;31m---------------------------------------------------------------------------\u001b[0m",
      "\u001b[1;31mAttributeError\u001b[0m                            Traceback (most recent call last)",
      "\u001b[1;32m<ipython-input-25-cb16d15709c9>\u001b[0m in \u001b[0;36m<module>\u001b[1;34m\u001b[0m\n\u001b[0;32m      1\u001b[0m \u001b[0mpath2\u001b[0m \u001b[1;33m=\u001b[0m \u001b[1;33m(\u001b[0m\u001b[1;34m\"low_freq/house_2/\"\u001b[0m\u001b[1;33m)\u001b[0m\u001b[1;33m\u001b[0m\u001b[1;33m\u001b[0m\u001b[0m\n\u001b[0;32m      2\u001b[0m \u001b[0my2\u001b[0m \u001b[1;33m=\u001b[0m \u001b[0mloadData\u001b[0m\u001b[1;33m(\u001b[0m\u001b[0mpath2\u001b[0m\u001b[1;33m,\u001b[0m \u001b[1;34m\"10\"\u001b[0m\u001b[1;33m,\u001b[0m \u001b[1;34m\"dishwasher\"\u001b[0m\u001b[1;33m)\u001b[0m\u001b[1;33m\u001b[0m\u001b[1;33m\u001b[0m\u001b[0m\n\u001b[1;32m----> 3\u001b[1;33m \u001b[0my2\u001b[0m \u001b[1;33m=\u001b[0m \u001b[0my2\u001b[0m\u001b[1;33m.\u001b[0m\u001b[0mreshape\u001b[0m\u001b[1;33m(\u001b[0m\u001b[0mlen\u001b[0m\u001b[1;33m(\u001b[0m\u001b[0my2\u001b[0m\u001b[1;33m)\u001b[0m\u001b[1;33m,\u001b[0m \u001b[1;36m1\u001b[0m\u001b[1;33m)\u001b[0m\u001b[1;33m\u001b[0m\u001b[1;33m\u001b[0m\u001b[0m\n\u001b[0m\u001b[0;32m      4\u001b[0m \u001b[1;33m\u001b[0m\u001b[0m\n\u001b[0;32m      5\u001b[0m \u001b[0mX2\u001b[0m \u001b[1;33m=\u001b[0m \u001b[0mscipy\u001b[0m\u001b[1;33m.\u001b[0m\u001b[0mio\u001b[0m\u001b[1;33m.\u001b[0m\u001b[0mloadmat\u001b[0m\u001b[1;33m(\u001b[0m\u001b[1;34m\"features2.mat\"\u001b[0m\u001b[1;33m)\u001b[0m\u001b[1;33m\u001b[0m\u001b[1;33m\u001b[0m\u001b[0m\n",
      "\u001b[1;31mAttributeError\u001b[0m: 'tuple' object has no attribute 'reshape'"
     ]
    }
   ],
   "source": [
    "path2 = (\"low_freq/house_2/\")\n",
    "y2 = loadData(path2, \"10\", \"dishwasher\")\n",
    "y2 = y2.reshape(len(y2), 1)\n",
    "\n",
    "X2 = scipy.io.loadmat(\"features2.mat\")\n",
    "X2 = X2['feature']\n",
    "\n",
    "start = random.randrange(0, X.shape[0]-27601)\n",
    "X_train = X2[start:start+24000,:]\n",
    "y_train = y2[start:start+24000,:]\n",
    "\n",
    "#X_train,y_train = mini_batch(X,y,10000)\n",
    "X_test = X2[start+24001:start+27601,:]\n",
    "y_test = y2[start+24001:start+27601,:]\n",
    "\n",
    "#X_test,y_test = mini_batch(X,y,1000)\n",
    "X_train = normalize_data(X_train)\n",
    "X_test = normalize_data(X_test)\n",
    "#X_train = X_train.reshape(X_train.shape[0], X_train.shape[1], 1)\n",
    "#X_test = X_test.reshape(X_test.shape[0], X_test.shape[1], 1)\n"
   ]
  },
  {
   "cell_type": "markdown",
   "metadata": {},
   "source": [
    "Model Specification\n",
    "-------------------------------\n",
    "The following function is used to create the model."
   ]
  },
  {
   "cell_type": "code",
   "execution_count": null,
   "metadata": {},
   "outputs": [],
   "source": [
    "def init_model():\n",
    "    model = Sequential()\n",
    "    model.add(Conv1D(16, 4, activation=\"relu\", kernel_initializer=\"he_normal\",\n",
    "                    input_shape=(1200,7), padding=\"same\", strides=1))\n",
    "    #model.add(BatchNormalization())\n",
    "    model.add(Dropout(0.25))\n",
    "   \n",
    "    model.add(Bidirectional(LSTM(256, return_sequences=True,\n",
    "                                  stateful=False), merge_mode='concat'))\n",
    "    model.add(Bidirectional(LSTM(128, return_sequences=True, stateful=False), merge_mode='concat'))\n",
    "    model.add(Dropout(0.2))\n",
    "    model.add(Bidirectional(LSTM(128, return_sequences=True, stateful=False), merge_mode='concat'))\n",
    "    model.add(Dropout(0.2))\n",
    "    model.add(Bidirectional(LSTM(64, return_sequences=True, stateful=False), merge_mode='concat'))\n",
    "    model.add(Dropout(0.2))\n",
    "    model.add(Bidirectional(GRU(64, return_sequences=True, stateful=False), merge_mode='concat'))\n",
    "    model.add(Dropout(0.2))\n",
    "    model.add(Dense(128, activation='relu'))\n",
    "    model.add(Dropout(0.25))\n",
    "    model.add(Dense(1, activation='linear'))\n",
    "    model.add(Dropout(0.25))\n",
    "    model.compile(loss='mse', optimizer='adam')\n",
    "    return model"
   ]
  },
  {
   "cell_type": "code",
   "execution_count": null,
   "metadata": {},
   "outputs": [],
   "source": [
    "model = init_model()\n",
    "history = LossHistory()\n",
    "X_train = create_seq(X_train)\n",
    "y_train = create_seq(y_train)\n",
    "X_test = create_seq(X_test)\n",
    "y_test = create_seq(y_test)\n",
    "model.fit(X_train, y_train, epochs=100, batch_size=64,\n",
    "                callbacks=[history],\n",
    "                validation_data=(X_test,y_test), verbose=2)\n",
    "score = model.evaluate(X_test, y_test, batch_size=64)\n",
    "print(score)\n",
    "plot_losses(history.losses)\n",
    "\n",
    "y_pred = model.predict(X_test)"
   ]
  },
  {
   "cell_type": "code",
   "execution_count": null,
   "metadata": {
    "scrolled": false
   },
   "outputs": [],
   "source": [
    "for i in range(len(y_test)):\n",
    "    samples = range(len(y_test[i]))\n",
    "    plt.plot(samples,y_test[i], color='blue', linewidth=1, label = 'Observed') \n",
    "    plt.plot(samples,y_pred[i], color='red', linewidth=2, label = 'Predicted') \n",
    "    plt.title('Linear Regression')\n",
    "    plt.legend()\n",
    "    plt.xlabel('Samples')\n",
    "    plt.ylabel('Power')\n",
    "    plt.show()"
   ]
  },
  {
   "cell_type": "markdown",
   "metadata": {},
   "source": [
    "================================ X ================================\n",
    "------"
   ]
  },
  {
   "cell_type": "code",
   "execution_count": 24,
   "metadata": {},
   "outputs": [],
   "source": [
    "mainR = scipy.io.loadmat('main_real.mat')\n",
    "mainI = scipy.io.loadmat('main_img.mat')\n",
    "main_real = mainR['main_real']\n",
    "main_img = mainI['main_img']"
   ]
  },
  {
   "cell_type": "code",
   "execution_count": 25,
   "metadata": {},
   "outputs": [
    {
     "data": {
      "text/plain": [
       "(406748, 1)"
      ]
     },
     "execution_count": 25,
     "metadata": {},
     "output_type": "execute_result"
    }
   ],
   "source": [
    "main_img.shape"
   ]
  },
  {
   "cell_type": "code",
   "execution_count": 9,
   "metadata": {},
   "outputs": [],
   "source": [
    "path1 = (\"low_freq/house_2/\")\n",
    "X, y = loadData(path1, \"10\", \"dishwasher\")\n",
    "mainR = scipy.io.loadmat(\"main_real.mat\")\n",
    "mainI = scipy.io.loadmat(\"main_img.mat\")\n",
    "main_real = mainR[\"main_real\"]\n",
    "main_img = mainI[\"main_img\"]"
   ]
  },
  {
   "cell_type": "code",
   "execution_count": 10,
   "metadata": {},
   "outputs": [
    {
     "data": {
      "text/plain": [
       "(316840, 5)"
      ]
     },
     "execution_count": 10,
     "metadata": {},
     "output_type": "execute_result"
    }
   ],
   "source": [
    "X.shape"
   ]
  },
  {
   "cell_type": "code",
   "execution_count": null,
   "metadata": {},
   "outputs": [],
   "source": []
  }
 ],
 "metadata": {
  "kernelspec": {
   "display_name": "Python 3",
   "language": "python",
   "name": "python3"
  },
  "language_info": {
   "codemirror_mode": {
    "name": "ipython",
    "version": 3
   },
   "file_extension": ".py",
   "mimetype": "text/x-python",
   "name": "python",
   "nbconvert_exporter": "python",
   "pygments_lexer": "ipython3",
   "version": "3.7.3"
  }
 },
 "nbformat": 4,
 "nbformat_minor": 2
}
