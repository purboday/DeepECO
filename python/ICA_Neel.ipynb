{
 "cells": [
  {
   "cell_type": "markdown",
   "metadata": {},
   "source": [
    "Energy Disaggregation using Neural Networks\n",
    "======================================="
   ]
  },
  {
   "cell_type": "code",
   "execution_count": 1,
   "metadata": {},
   "outputs": [
    {
     "name": "stderr",
     "output_type": "stream",
     "text": [
      "Using TensorFlow backend.\n"
     ]
    }
   ],
   "source": [
    "import sys\n",
    "import numpy as np\n",
    "# sys.path.append(\"c:/python34/lib/site-packages\")\n",
    "import keras\n",
    "import pandas as pd\n",
    "from datetime import datetime as dt\n",
    "import math\n",
    "from keras.models import Sequential\n",
    "from keras.layers import Dense, Dropout, Flatten\n",
    "from keras.layers import Conv2D, Conv1D, MaxPooling2D, LSTM, Bidirectional\n",
    "from keras import regularizers\n",
    "import keras.callbacks as cb\n",
    "from matplotlib import pyplot as plt\n",
    "import random\n",
    "from scipy import signal\n",
    "\n",
    "from sklearn.decomposition import FastICA, PCA"
   ]
  },
  {
   "cell_type": "markdown",
   "metadata": {},
   "source": [
    "The following functions are used to extract the time and day information from a timestamp value."
   ]
  },
  {
   "cell_type": "code",
   "execution_count": 2,
   "metadata": {},
   "outputs": [],
   "source": [
    "def get_month(timevals):\n",
    "    return dt.fromtimestamp(timevals).month\n",
    "def get_week(timevals):\n",
    "    return math.ceil(dt.fromtimestamp(timevals).day/7)\n",
    "def get_hour(timevals):\n",
    "    return dt.fromtimestamp(timevals).hour\n",
    "def get_minute(timevals):\n",
    "    return dt.fromtimestamp(timevals).minute\n",
    "def get_second(timevals):\n",
    "    return dt.fromtimestamp(timevals).second"
   ]
  },
  {
   "cell_type": "markdown",
   "metadata": {},
   "source": [
    "The following function normalizes each column of the input array by substracting the mean and dividing by the standard deviation."
   ]
  },
  {
   "cell_type": "code",
   "execution_count": 3,
   "metadata": {},
   "outputs": [],
   "source": [
    "def normalize_data(X):\n",
    "    for i in range(X.shape[1]):\n",
    "        if np.std(X[:,i]) < 1e-4:\n",
    "            den = 1e-4\n",
    "        else:\n",
    "            den = np.std(X[:,i])\n",
    "        X[:,i] = (X[:,i]-np.mean(X[:,i]))/den\n",
    "    return X"
   ]
  },
  {
   "cell_type": "markdown",
   "metadata": {},
   "source": [
    "This class is used as a callback for the model fit function which is used to calculate and store the losses after each batch iteration."
   ]
  },
  {
   "cell_type": "code",
   "execution_count": 4,
   "metadata": {},
   "outputs": [],
   "source": [
    "class LossHistory(cb.Callback):\n",
    "    def on_train_begin(self, logs={}):\n",
    "        self.losses = []\n",
    "\n",
    "    def on_batch_end(self, batch, logs={}):\n",
    "        batch_loss = logs.get('loss')\n",
    "        self.losses.append(batch_loss)\n"
   ]
  },
  {
   "cell_type": "markdown",
   "metadata": {},
   "source": [
    "Model Specification\n",
    "-------------------------------\n",
    "The following function is used to create the model."
   ]
  },
  {
   "cell_type": "code",
   "execution_count": 5,
   "metadata": {},
   "outputs": [],
   "source": [
    "def init_model():\n",
    "    model = Sequential()\n",
    "    model.add(Conv1D(16, 4, activation=\"relu\",\n",
    "                    input_shape=(7,1), padding=\"same\", strides=1))\n",
    "    model.add(Dropout(0.25))\n",
    "    model.add(Bidirectional(LSTM(128, return_sequences=True,\n",
    "                                  stateful=False), merge_mode='concat'))\n",
    "    model.add(Bidirectional(LSTM(256, return_sequences=False, stateful=False), merge_mode='concat'))\n",
    "    model.add(Dense(128, activation='relu'))\n",
    "    model.add(Dropout(0.5))\n",
    "    model.add(Dense(1, activation='sigmoid'))\n",
    "    model.add(Dropout(0.5))\n",
    "    model.compile(loss='mse', optimizer='adam')\n",
    "    return model"
   ]
  },
  {
   "cell_type": "markdown",
   "metadata": {},
   "source": [
    "The following function plots the losses against the epochs."
   ]
  },
  {
   "cell_type": "code",
   "execution_count": 6,
   "metadata": {},
   "outputs": [],
   "source": [
    "def plot_losses(losses):\n",
    "    plt.plot(losses)\n",
    "    plt.title('Loss per batch')\n",
    "    plt.show()"
   ]
  },
  {
   "cell_type": "markdown",
   "metadata": {},
   "source": [
    "Data Preprocessing\n",
    "------------------------------\n",
    "\n",
    "The following function takes as input the file path, the channel index and the quantity name as input and loads the appropriate data files. It then joins themains and the output quantity based on the timestamp values, extracts time features from the timestamp and splits the input and output into two arrays."
   ]
  },
  {
   "cell_type": "code",
   "execution_count": 7,
   "metadata": {},
   "outputs": [],
   "source": [
    "def loadData(path, index, name):\n",
    "    main11 = np.genfromtxt(path+'channel_1.dat', dtype = [int, float],)\n",
    "    main12 = np.genfromtxt(path1+'channel_2.dat', dtype = [int, float])\n",
    "    wash1 = np.genfromtxt(path1+'channel_'+index+'.dat', dtype = [int, float])\n",
    "    maindf1 = pd.DataFrame(main11)\n",
    "    maindf1.columns = [\"timestamp\", \"mains1\"]\n",
    "    maindf2 = pd.DataFrame(main12)\n",
    "    maindf2.columns = [\"timestamp\", \"mains2\"]\n",
    "    washdf1 = pd.DataFrame(wash1)\n",
    "    washdf1.columns = [\"timestamp\", name]\n",
    "    traindf1 = maindf1.merge(maindf2, on = ('timestamp'))\n",
    "    traindf1 = traindf1.merge(washdf1, how=\"inner\", on = ('timestamp'))\n",
    "    timevals = traindf1[\"timestamp\"]\n",
    "    traindf1[\"month\"] = timevals.apply(get_month)\n",
    "    traindf1[\"week\"] = timevals.apply(get_week)\n",
    "    traindf1[\"hour\"] = timevals.apply(get_hour)\n",
    "    traindf1[\"minute\"] = timevals.apply(get_minute)\n",
    "    traindf1[\"second\"] = timevals.apply(get_second)\n",
    "    y = traindf1[name].values\n",
    "    \n",
    "    X = np.column_stack((traindf1[\"month\"].values,traindf1[\"week\"].values,\n",
    "                     traindf1[\"hour\"].values,traindf1[\"minute\"].values,\n",
    "                     traindf1[\"second\"].values,traindf1[\"mains1\"].values,\n",
    "                     traindf1[\"mains2\"].values))\n",
    "   \n",
    "    return X,y"
   ]
  },
  {
   "cell_type": "markdown",
   "metadata": {},
   "source": [
    "ICA:\n",
    "---------  \n",
    "    main = main1+main2"
   ]
  },
  {
   "cell_type": "code",
   "execution_count": 10,
   "metadata": {},
   "outputs": [
    {
     "data": {
      "text/plain": [
       "array([1.30308231e+09, 1.65700000e+01])"
      ]
     },
     "execution_count": 10,
     "metadata": {},
     "output_type": "execute_result"
    }
   ],
   "source": [
    "path1 = (\"C:/Users/isisuser/Documents/Deep Learning_Purbodayv2/low_freq/house_2/\")\n",
    "main11 = np.genfromtxt(path1+'channel_1.dat')\n",
    "main11.shape\n",
    "main11[0]"
   ]
  },
  {
   "cell_type": "code",
   "execution_count": 11,
   "metadata": {},
   "outputs": [
    {
     "data": {
      "text/plain": [
       "(1198534, 2)"
      ]
     },
     "execution_count": 11,
     "metadata": {},
     "output_type": "execute_result"
    }
   ],
   "source": [
    "main12 = np.genfromtxt(path1+'channel_2.dat')\n",
    "main12.shape"
   ]
  },
  {
   "cell_type": "code",
   "execution_count": 12,
   "metadata": {},
   "outputs": [
    {
     "data": {
      "text/plain": [
       "array([306.81])"
      ]
     },
     "execution_count": 12,
     "metadata": {},
     "output_type": "execute_result"
    }
   ],
   "source": [
    "\n",
    "mains = main11[:,1]+main12[:,1]\n",
    "mains.shape\n",
    "# np.reshape(mains,(mains.shape[0],1))\n",
    "# mains.shape\n",
    "mains=mains.reshape(len(mains),1)\n",
    "mains[0]"
   ]
  },
  {
   "cell_type": "code",
   "execution_count": 13,
   "metadata": {
    "scrolled": true
   },
   "outputs": [
    {
     "name": "stderr",
     "output_type": "stream",
     "text": [
      "C:\\Users\\isisuser\\Anaconda3\\lib\\site-packages\\sklearn\\decomposition\\fastica_.py:305: UserWarning: n_components is too large: it will be set to 1\n",
      "  warnings.warn('n_components is too large: it will be set to %s' % n_components)\n"
     ]
    },
    {
     "data": {
      "text/plain": [
       "array([[-284210.6226166]])"
      ]
     },
     "execution_count": 13,
     "metadata": {},
     "output_type": "execute_result"
    }
   ],
   "source": [
    "\n",
    "# main12 = np.genfromtxt(path1+'channel_2.dat', dtype = float)\n",
    "\n",
    "\n",
    "# Compute ICA\n",
    "ica = FastICA(n_components=2)\n",
    "S_ = ica.fit_transform(mains)  # Reconstruct signals\n",
    "A_ = ica.mixing_  # Get estimated mixing matrix\n",
    "A_\n"
   ]
  },
  {
   "cell_type": "code",
   "execution_count": 23,
   "metadata": {},
   "outputs": [
    {
     "data": {
      "text/plain": [
       "array([[ 1.57806792e-02, -1.94816305e-01,  1.83458323e-01,\n",
       "         2.15430998e-01,  1.27747636e-02,  9.71093553e-02,\n",
       "        -2.19649550e-01,  7.45060178e-02, -2.77656930e-01],\n",
       "       [-1.88265026e-03, -2.01191963e-01,  1.90576050e-01,\n",
       "         2.10737451e-01,  2.18790001e-02,  1.11144038e-01,\n",
       "        -2.17341098e-01,  5.58317971e-02, -2.35229714e-01],\n",
       "       [-1.05696315e-01, -1.98901285e-01,  1.90565905e-01,\n",
       "         2.26270572e-01,  6.62465639e-02,  1.49884821e-01,\n",
       "        -1.28658829e-01,  9.60120262e-02, -1.22226747e-01],\n",
       "       [-2.14006929e-01, -1.79425023e-01,  1.27148037e-01,\n",
       "         2.05365764e-01,  8.68694522e-02,  1.88090298e-01,\n",
       "        -3.24339250e-02,  1.05670818e-01, -1.83932886e-02],\n",
       "       [-2.65302461e-02, -1.36998764e-01,  1.26165064e-01,\n",
       "         4.86261295e-02,  5.31386767e-03,  1.43489941e-01,\n",
       "        -2.84228206e-01, -6.48521022e-02, -8.34522114e-02],\n",
       "       [-1.52269131e-01, -1.19653081e-01,  4.85992419e-02,\n",
       "         2.36367579e-02,  2.82914871e-02,  1.92477558e-01,\n",
       "        -1.34616667e-01, -7.04220740e-02,  4.54864164e-02],\n",
       "       [-1.86626509e-01, -1.00315591e-01,  1.25578883e-02,\n",
       "        -1.48557127e-02,  3.39093358e-02,  2.04228988e-01,\n",
       "        -1.24780936e-01, -5.99184326e-02,  8.43765411e-02],\n",
       "       [-1.66974296e-01, -7.78403484e-02, -3.68747449e-02,\n",
       "        -7.74366720e-02,  1.40144094e-02,  2.05780045e-01,\n",
       "        -1.31485182e-01, -1.00054051e-01,  9.82412979e-02],\n",
       "       [-2.43953519e-01, -7.94567774e-02, -1.13931998e-01,\n",
       "        -7.54658464e-02,  2.60081843e-02,  2.32529550e-01,\n",
       "        -2.00592688e-03, -6.45324539e-02,  1.42817618e-01],\n",
       "       [-1.31497023e-01, -6.82665122e-02, -1.05909398e-01,\n",
       "        -1.33461350e-01, -5.03934980e-04,  2.00255379e-01,\n",
       "        -7.24003251e-02, -1.34312437e-01,  6.91779381e-02],\n",
       "       [-2.16447553e-01, -6.07874901e-02, -1.74983420e-01,\n",
       "        -1.16442635e-01,  2.94905347e-02,  2.20636977e-01,\n",
       "         5.81232266e-02, -7.06366954e-02,  1.00512532e-01],\n",
       "       [-1.64921770e-01, -5.79852803e-02, -2.06073923e-01,\n",
       "        -1.43273448e-01,  1.32465639e-02,  2.07185972e-01,\n",
       "         5.37456468e-02, -8.91113184e-02,  5.84965951e-02],\n",
       "       [-5.00347573e-02, -5.88998432e-02, -1.98776429e-01,\n",
       "        -1.71542597e-01, -1.30454563e-02,  1.68633346e-01,\n",
       "         1.48878881e-02, -1.37577488e-01, -4.92562476e-02],\n",
       "       [ 8.62661830e-02, -5.99918688e-02, -1.65269414e-01,\n",
       "        -2.03321425e-01, -4.50247776e-02,  1.26639812e-01,\n",
       "        -6.13242960e-02, -1.86954277e-01, -1.53242332e-01],\n",
       "       [ 1.24693550e-01, -6.74745506e-02, -1.55335530e-01,\n",
       "        -1.86729490e-01, -3.12357600e-02,  1.06814666e-01,\n",
       "        -2.75656621e-02, -1.56305199e-01, -2.16654561e-01],\n",
       "       [ 1.00958253e-01, -7.30988324e-02, -1.39914092e-01,\n",
       "        -1.50483841e-01, -1.25251708e-03,  1.06710588e-01,\n",
       "         5.15700655e-02, -8.64584773e-02, -2.26197777e-01],\n",
       "       [ 1.89453172e-01, -9.04673584e-02, -7.13683010e-02,\n",
       "        -1.37110854e-01,  2.07016924e-03,  7.95703844e-02,\n",
       "         4.17532886e-02, -8.13531766e-02, -2.91496082e-01],\n",
       "       [ 1.50995238e-01, -1.04662586e-01, -2.86104426e-02,\n",
       "        -8.40675020e-02,  3.94275979e-02,  9.17845380e-02,\n",
       "         1.55101480e-01, -1.64627311e-02, -2.54719333e-01],\n",
       "       [ 9.58974243e-02, -1.03267775e-01,  9.05094042e-03,\n",
       "        -4.78656755e-02,  9.30475656e-02,  1.07263481e-01,\n",
       "         2.45993287e-01,  5.61793162e-02, -1.97098213e-01],\n",
       "       [ 7.62905740e-02, -9.65229439e-02,  4.04055582e-02,\n",
       "        -4.15470673e-02,  1.15477956e-01,  1.21081234e-01,\n",
       "         2.81770478e-01,  8.89568312e-02, -1.32329297e-01],\n",
       "       [ 9.77303292e-02, -8.66867228e-02,  7.72612520e-02,\n",
       "        -4.66902288e-02,  1.21596244e-01,  1.24015972e-01,\n",
       "         2.46251142e-01,  9.66212432e-02, -8.78368031e-02],\n",
       "       [ 1.74703111e-01, -6.82364091e-02,  1.47717050e-01,\n",
       "        -8.21561214e-02,  1.07745242e-01,  1.08907439e-01,\n",
       "         1.42973199e-01,  5.89218055e-02, -7.13546307e-02],\n",
       "       [ 1.33930816e-01, -4.64608063e-02,  1.71936211e-01,\n",
       "        -8.42836115e-02,  1.24311423e-01,  1.29891200e-01,\n",
       "         1.49172953e-01,  8.43004568e-02,  2.70508636e-02],\n",
       "       [ 6.52015568e-02, -1.21616879e-02,  1.81256798e-01,\n",
       "        -7.06880212e-02,  1.63653355e-01,  1.47978535e-01,\n",
       "         1.75428686e-01,  1.30119403e-01,  1.17569540e-01],\n",
       "       [ 1.01794946e-01,  3.32866512e-02,  1.85295601e-01,\n",
       "        -1.24333512e-01,  1.47056682e-01,  1.41673236e-01,\n",
       "         6.48903386e-02,  8.99992999e-02,  1.52907591e-01],\n",
       "       [ 9.73115184e-02,  8.09521952e-02,  1.80718452e-01,\n",
       "        -1.61732794e-01,  1.51906181e-01,  1.27326754e-01,\n",
       "        -2.82657325e-02,  7.29278572e-02,  1.39139038e-01],\n",
       "       [ 9.84210575e-02,  1.30127530e-01,  1.73431221e-01,\n",
       "        -1.61336645e-01,  1.55844773e-01,  1.03817263e-01,\n",
       "        -1.06302678e-01,  6.15272578e-02,  9.58618437e-02],\n",
       "       [ 8.89649642e-03,  1.68694145e-01,  1.02751510e-01,\n",
       "        -1.34102705e-01,  1.77213784e-01,  1.14488181e-01,\n",
       "        -7.82828352e-02,  1.10093502e-01,  1.17529578e-01],\n",
       "       [ 2.96683343e-02,  2.05710384e-01,  5.84240400e-02,\n",
       "        -1.46324908e-01,  1.55044168e-01,  9.04565637e-02,\n",
       "        -1.68947781e-01,  8.22726925e-02,  5.07726757e-02],\n",
       "       [ 9.03065431e-02,  2.15757667e-01,  3.07760316e-02,\n",
       "        -1.23343504e-01,  1.29619222e-01,  6.08219186e-02,\n",
       "        -2.29477376e-01,  3.25493946e-02, -4.17156951e-02],\n",
       "       [-3.91306362e-03,  2.15422488e-01, -5.79334442e-02,\n",
       "        -4.79737316e-02,  1.55597785e-01,  7.82757161e-02,\n",
       "        -1.26349448e-01,  1.14485673e-01, -3.71248928e-02],\n",
       "       [ 3.57694640e-02,  2.24430178e-01, -1.02734304e-01,\n",
       "        -2.78532712e-02,  1.22312338e-01,  5.57330522e-02,\n",
       "        -1.90425998e-01,  8.09364830e-02, -1.20075686e-01],\n",
       "       [-1.53682865e-02,  2.14271394e-01, -1.55997082e-01,\n",
       "         2.69467953e-02,  1.27260993e-01,  6.92799791e-02,\n",
       "        -1.13348655e-01,  1.18835285e-01, -1.12606794e-01],\n",
       "       [-8.13417329e-03,  1.98700318e-01, -1.58936020e-01,\n",
       "         7.82117574e-02,  1.30424122e-01,  7.45969719e-02,\n",
       "        -9.17690068e-02,  1.30418800e-01, -1.05980589e-01],\n",
       "       [-2.65483700e-02,  1.73241645e-01, -1.89241453e-01,\n",
       "         1.37943387e-01,  1.16253110e-01,  8.73636495e-02,\n",
       "        -2.34857090e-02,  1.26885991e-01, -9.55931768e-02],\n",
       "       [ 3.08924373e-02,  1.47905869e-01, -1.99896563e-01,\n",
       "         1.62083742e-01,  7.51310635e-02,  8.86707282e-02,\n",
       "        -2.91975632e-02,  7.77191858e-02, -9.34524349e-02],\n",
       "       [ 6.34507882e-02,  1.17710291e-01, -1.92138873e-01,\n",
       "         1.98460702e-01,  5.72914225e-02,  1.00653728e-01,\n",
       "         7.73962203e-03,  4.72226085e-02, -6.03633240e-02],\n",
       "       [ 1.30783858e-01,  7.87114960e-02, -1.55437283e-01,\n",
       "         2.14880987e-01,  2.31071697e-02,  1.02092665e-01,\n",
       "         1.27867606e-03, -3.93355262e-03, -5.49713005e-02],\n",
       "       [ 8.37922806e-02,  5.92244407e-02, -1.53403286e-01,\n",
       "         2.45517646e-01,  2.99974753e-02,  1.33271271e-01,\n",
       "         8.10241863e-02,  8.54238537e-03,  3.26887356e-02],\n",
       "       [ 1.59434256e-01,  4.78096307e-02, -1.00684827e-01,\n",
       "         2.27595570e-01,  4.88619550e-03,  1.28055636e-01,\n",
       "         4.65000810e-02, -8.81730181e-02,  4.66459919e-02],\n",
       "       [ 1.21399233e-01,  3.16714762e-02, -7.02096007e-02,\n",
       "         2.46613586e-01,  1.32900237e-02,  1.51382912e-01,\n",
       "         1.07924648e-01, -8.99220904e-02,  1.19244105e-01],\n",
       "       [ 1.54793849e-01,  3.94791219e-02, -2.32263382e-02,\n",
       "         2.09171870e-01, -7.56476686e-03,  1.42163742e-01,\n",
       "         5.45156180e-02, -1.29751108e-01,  1.21163587e-01],\n",
       "       [ 6.38075994e-02,  4.25380960e-02,  3.16900100e-02,\n",
       "         2.06809180e-01,  1.16454000e-02,  1.67024907e-01,\n",
       "         1.62185642e-01, -1.39923365e-01,  2.07487350e-01],\n",
       "       [ 7.08960059e-02,  6.71558149e-02,  6.54110125e-02,\n",
       "         1.61943908e-01, -1.14518441e-02,  1.49216909e-01,\n",
       "         1.19738592e-01, -1.87915691e-01,  1.74695938e-01],\n",
       "       [ 1.34354341e-01,  1.06726183e-01,  1.30349181e-01,\n",
       "         7.36119894e-02, -5.31027723e-02,  1.02559037e-01,\n",
       "        -1.01672593e-02, -2.85689144e-01,  7.22061613e-02],\n",
       "       [ 1.01997451e-01,  1.37982839e-01,  1.58663104e-01,\n",
       "         4.37693852e-02, -5.83381540e-02,  8.08244756e-02,\n",
       "        -1.86959063e-02, -2.82618192e-01,  1.29203501e-02],\n",
       "       [ 8.89514395e-02,  1.83388192e-01,  2.15779433e-01,\n",
       "        -1.81978043e-02, -1.03442048e-01,  2.69708044e-02,\n",
       "        -1.00069337e-01, -3.00425572e-01, -1.42130532e-01],\n",
       "       [-5.48870139e-02,  2.03238798e-01,  1.73541557e-01,\n",
       "        -3.21537401e-04, -7.35859076e-02,  4.17023528e-02,\n",
       "         1.91793081e-02, -2.16088581e-01, -1.36541586e-01],\n",
       "       [-6.11180184e-02,  2.12116803e-01,  1.57158276e-01,\n",
       "        -3.80541212e-02, -1.01566614e-01,  2.97606816e-02,\n",
       "        -6.48092893e-03, -1.95011955e-01, -1.84774220e-01],\n",
       "       [-1.82406146e-01,  1.95748378e-01,  1.38104591e-01,\n",
       "         9.41285820e-03, -8.73808643e-02,  6.65866647e-02,\n",
       "         1.26943696e-01, -6.98793756e-02, -1.08873117e-01],\n",
       "       [-1.59111241e-01,  1.79779299e-01,  1.30866581e-01,\n",
       "        -5.42418890e-03, -1.21919325e-01,  6.06212231e-02,\n",
       "         1.01173649e-01, -2.57149413e-02, -1.39601979e-01],\n",
       "       [-1.88139056e-01,  1.54123900e-01,  8.25216069e-02,\n",
       "        -2.50927088e-03, -1.38598896e-01,  7.89052889e-02,\n",
       "         1.45212125e-01,  4.30764284e-02, -1.21014688e-01],\n",
       "       [-2.55313646e-01,  1.41828612e-01,  4.57147529e-02,\n",
       "         2.36100813e-02, -1.32288280e-01,  1.06148151e-01,\n",
       "         2.25042156e-01,  1.43064708e-01, -6.26143199e-02],\n",
       "       [-1.16713108e-01,  1.20887303e-01,  4.57810688e-02,\n",
       "        -2.93658562e-02, -2.01844753e-01,  9.39038662e-02,\n",
       "         7.93431163e-02,  1.30108980e-01, -8.11019138e-02],\n",
       "       [-1.23308150e-01,  1.02708185e-01,  3.58607254e-02,\n",
       "        -2.35417308e-03, -1.97657493e-01,  1.03489801e-01,\n",
       "         1.02876715e-01,  1.85882428e-01, -6.26292919e-02],\n",
       "       [-6.72549123e-02,  7.06476986e-02,  1.13806839e-02,\n",
       "        -2.72920273e-03, -2.28730385e-01,  1.13867904e-01,\n",
       "         8.96617790e-02,  1.87694334e-01, -4.13801271e-02],\n",
       "       [ 8.16146227e-02,  4.30360046e-02,  3.41952699e-02,\n",
       "        -4.34295741e-02, -2.88277624e-01,  1.03562877e-01,\n",
       "        -7.43027188e-02,  1.58319607e-01, -4.09191883e-02],\n",
       "       [ 8.41356119e-02, -1.35339018e-02, -3.49240359e-02,\n",
       "        -2.28412262e-02, -3.09471116e-01,  1.60590870e-01,\n",
       "        -5.46514815e-03,  2.19112627e-01,  1.05847584e-01],\n",
       "       [ 2.51145073e-01, -3.38549644e-02, -1.71831211e-02,\n",
       "        -6.15263247e-02, -3.51340106e-01,  1.48674170e-01,\n",
       "        -1.62536602e-01,  1.56533179e-01,  1.12848697e-01],\n",
       "       [ 2.79217470e-01, -5.57252269e-02, -2.22635948e-02,\n",
       "        -6.58323835e-02, -3.51926203e-01,  1.62585021e-01,\n",
       "        -1.67270776e-01,  1.54413991e-01,  1.55174629e-01]])"
      ]
     },
     "execution_count": 23,
     "metadata": {},
     "output_type": "execute_result"
    }
   ],
   "source": [
    "import scipy.io\n",
    "TransformWeights = scipy.io.loadmat('TransformWeights.mat')\n",
    "Zica = scipy.io.loadmat('Zica.mat')\n",
    "Zica['Zica']\n",
    "TransformWeights['weights']"
   ]
  },
  {
   "cell_type": "code",
   "execution_count": null,
   "metadata": {},
   "outputs": [],
   "source": [
    "# We can `prove` that the ICA model applies by reverting the unmixing.\n",
    "assert np.allclose(mains, np.dot(S_, A_.T) + ica.mean_)"
   ]
  },
  {
   "cell_type": "code",
   "execution_count": 72,
   "metadata": {},
   "outputs": [
    {
     "data": {
      "image/png": "[encoded data removed]",
      "text/plain": [
       "<Figure size 432x288 with 2 Axes>"
      ]
     },
     "metadata": {
      "needs_background": "light"
     },
     "output_type": "display_data"
    }
   ],
   "source": [
    "\n",
    "models = [mains, S_]\n",
    "names = ['Observations (mixed signal)',\n",
    "         'ICA recovered signals']\n",
    "colors = ['red', 'steelblue']\n",
    "\n",
    "for ii, (model, name) in enumerate(zip(models, names), 1):\n",
    "    plt.subplot(2, 1, ii)\n",
    "    plt.title(name)\n",
    "    for sig, color in zip(model.T, colors):\n",
    "        plt.plot(sig, color=color)\n",
    "\n",
    "# plt.subplots_adjust(0.09, 0.04, 0.94, 0.94, 0.26, 0.46)\n",
    "plt.show()"
   ]
  },
  {
   "cell_type": "markdown",
   "metadata": {},
   "source": [
    "Training and Testing\n",
    "-------------------------------\n",
    "\n",
    "The model is trained on the\"dishwasher\" appliance for house 1. The training set comprises 20000 samples and the testing set comprises 2000 samples. The loss curve is plotted. he predicted values are also plotted against the actual values forthe test set."
   ]
  },
  {
   "cell_type": "code",
   "execution_count": 22,
   "metadata": {},
   "outputs": [
    {
     "name": "stdout",
     "output_type": "stream",
     "text": [
      "Train on 20000 samples, validate on 2000 samples\n",
      "Epoch 1/20\n",
      " - 74s - loss: 0.1120 - val_loss: 0.0400\n",
      "Epoch 2/20\n",
      " - 65s - loss: 0.0899 - val_loss: 0.0400\n",
      "Epoch 3/20\n",
      " - 62s - loss: 0.0899 - val_loss: 0.0400\n",
      "Epoch 4/20\n",
      " - 68s - loss: 0.0899 - val_loss: 0.0400\n",
      "Epoch 5/20\n",
      " - 57s - loss: 0.0899 - val_loss: 0.0400\n",
      "Epoch 6/20\n",
      " - 62s - loss: 0.0899 - val_loss: 0.0400\n",
      "Epoch 7/20\n",
      " - 64s - loss: 0.0899 - val_loss: 0.0400\n",
      "Epoch 8/20\n",
      " - 61s - loss: 0.0899 - val_loss: 0.0400\n",
      "Epoch 9/20\n",
      " - 64s - loss: 0.0899 - val_loss: 0.0400\n",
      "Epoch 10/20\n",
      " - 63s - loss: 0.0899 - val_loss: 0.0400\n",
      "Epoch 11/20\n",
      " - 64s - loss: 0.0899 - val_loss: 0.0400\n",
      "Epoch 12/20\n",
      " - 62s - loss: 0.0899 - val_loss: 0.0400\n",
      "Epoch 13/20\n",
      " - 65s - loss: 0.0899 - val_loss: 0.0400\n",
      "Epoch 14/20\n",
      " - 65s - loss: 0.0899 - val_loss: 0.0400\n",
      "Epoch 15/20\n",
      " - 67s - loss: 0.0899 - val_loss: 0.0400\n",
      "Epoch 16/20\n",
      " - 65s - loss: 0.0899 - val_loss: 0.0400\n",
      "Epoch 17/20\n",
      " - 76s - loss: 0.0899 - val_loss: 0.0400\n",
      "Epoch 18/20\n",
      " - 65s - loss: 0.0899 - val_loss: 0.0400\n",
      "Epoch 19/20\n",
      " - 74s - loss: 0.0899 - val_loss: 0.0400\n",
      "Epoch 20/20\n",
      " - 69s - loss: 0.0899 - val_loss: 0.0400\n",
      "2000/2000 [==============================] - 5s 2ms/step\n",
      "0.04\n"
     ]
    },
    {
     "data": {
      "image/png": "[encoded data removed]",
      "text/plain": [
       "<Figure size 432x288 with 1 Axes>"
      ]
     },
     "metadata": {},
     "output_type": "display_data"
    },
    {
     "data": {
      "image/png": "[encoded data removed]",
      "text/plain": [
       "<Figure size 432x288 with 1 Axes>"
      ]
     },
     "metadata": {},
     "output_type": "display_data"
    }
   ],
   "source": [
    "\n",
    "path1 = (\"C:/Users/Purboday Ghosh/Downloads/low_freq/house_1/\")\n",
    "X, y = loadData(path1, \"6\", \"dishwasher\")\n",
    "y = y.reshape(len(y), 1)\n",
    "start = random.randrange(0, X.shape[0]-22000)\n",
    "X_train = X[start:start+20000,:]\n",
    "y_train = y[start:start+20000,:]\n",
    "#X_train,y_train = mini_batch(X,y,10000)\n",
    "X_test = X[start+20001:start+22001,:]\n",
    "y_test = y[start+20001:start+22001,:]\n",
    "#X_test,y_test = mini_batch(X,y,1000)\n",
    "X_train = normalize_data(X_train)\n",
    "X_test = normalize_data(X_test)\n",
    "X_train = X_train.reshape(X_train.shape[0], X_train.shape[1], 1)\n",
    "X_test = X_test.reshape(X_test.shape[0], X_test.shape[1], 1)\n",
    "model = init_model()\n",
    "history = LossHistory()\n",
    "model.fit(X_train, y_train, epochs=20, batch_size=256,\n",
    "                callbacks=[history],\n",
    "                validation_data=(X_test,y_test), verbose=2)\n",
    "score = model.evaluate(X_test, y_test, batch_size=16)\n",
    "print(score)\n",
    "plot_losses(history.losses)\n",
    "\n",
    "y_pred = model.predict(X_test)\n",
    "samples = range(len(y_test))\n",
    "plt.plot(samples,y_test, color='blue', linewidth=1, label = 'Observed') \n",
    "plt.plot(samples,y_pred, color='red', linewidth=1, label = 'Predicted') \n",
    "plt.title('Linear Regression')\n",
    "plt.legend()\n",
    "plt.xlabel('Samples')\n",
    "plt.ylabel('Power')\n",
    "plt.show()"
   ]
  },
  {
   "cell_type": "code",
   "execution_count": null,
   "metadata": {},
   "outputs": [],
   "source": []
  }
 ],
 "metadata": {
  "kernelspec": {
   "display_name": "Python 3",
   "language": "python",
   "name": "python3"
  },
  "language_info": {
   "codemirror_mode": {
    "name": "ipython",
    "version": 3
   },
   "file_extension": ".py",
   "mimetype": "text/x-python",
   "name": "python",
   "nbconvert_exporter": "python",
   "pygments_lexer": "ipython3",
   "version": "3.7.3"
  }
 },
 "nbformat": 4,
 "nbformat_minor": 2
}
