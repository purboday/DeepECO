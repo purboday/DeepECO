{
 "cells": [
  {
   "cell_type": "markdown",
   "metadata": {},
   "source": [
    "Energy Disaggregation using Neural Networks\n",
    "======================================="
   ]
  },
  {
   "cell_type": "code",
   "execution_count": 17,
   "metadata": {},
   "outputs": [],
   "source": [
    "import sys\n",
    "import numpy as np\n",
    "#sys.path.append(\"c:/python34/lib/site-packages\")\n",
    "import keras\n",
    "import pandas as pd\n",
    "from datetime import datetime as dt\n",
    "import math\n",
    "from keras.models import Sequential\n",
    "from keras.layers import Dense, Dropout, Flatten, GRU\n",
    "from keras.layers import Conv2D, Conv1D, MaxPooling2D, LSTM, Bidirectional, BatchNormalization, MaxPooling1D\n",
    "from keras import regularizers, initializers\n",
    "import keras.callbacks as cb\n",
    "from matplotlib import pyplot as plt\n",
    "import random\n",
    "import scipy.io"
   ]
  },
  {
   "cell_type": "markdown",
   "metadata": {},
   "source": [
    "The following functions are used to extract the time and day information from a timestamp value."
   ]
  },
  {
   "cell_type": "code",
   "execution_count": 18,
   "metadata": {},
   "outputs": [],
   "source": [
    "def get_month(timevals):\n",
    "    return dt.fromtimestamp(timevals).month\n",
    "def get_week(timevals):\n",
    "    return math.ceil(dt.fromtimestamp(timevals).day/7)\n",
    "def get_hour(timevals):\n",
    "    return dt.fromtimestamp(timevals).hour\n",
    "def get_minute(timevals):\n",
    "    return dt.fromtimestamp(timevals).minute\n",
    "def get_second(timevals):\n",
    "    return dt.fromtimestamp(timevals).second"
   ]
  },
  {
   "cell_type": "markdown",
   "metadata": {},
   "source": [
    "The following function normalizes each column of the input array by substracting the mean and dividing by the standard deviation."
   ]
  },
  {
   "cell_type": "code",
   "execution_count": 19,
   "metadata": {},
   "outputs": [],
   "source": [
    "def normalize_data(X):\n",
    "    for i in range(X.shape[1]):\n",
    "        if np.std(X[:,i]) < 1e-4:\n",
    "            den = 1e-4\n",
    "        else:\n",
    "            den = np.std(X[:,i])\n",
    "        X[:,i] = (X[:,i]-np.mean(X[:,i]))/den\n",
    "    return X"
   ]
  },
  {
   "cell_type": "markdown",
   "metadata": {},
   "source": [
    "This class is used as a callback for the model fit function which is used to calculate and store the losses after each batch iteration."
   ]
  },
  {
   "cell_type": "code",
   "execution_count": 20,
   "metadata": {},
   "outputs": [],
   "source": [
    "class LossHistory(cb.Callback):\n",
    "    def on_train_begin(self, logs={}):\n",
    "        self.losses = []\n",
    "\n",
    "    def on_batch_end(self, batch, logs={}):\n",
    "        batch_loss = logs.get('loss')\n",
    "        self.losses.append(batch_loss)\n"
   ]
  },
  {
   "cell_type": "markdown",
   "metadata": {},
   "source": [
    "Model Specification\n",
    "-------------------------------\n",
    "The following function is used to create the model."
   ]
  },
  {
   "cell_type": "markdown",
   "metadata": {},
   "source": [
    "The following function plots the losses against the epochs."
   ]
  },
  {
   "cell_type": "code",
   "execution_count": 21,
   "metadata": {},
   "outputs": [],
   "source": [
    "def plot_losses(losses):\n",
    "    plt.plot(losses)\n",
    "    plt.title('Loss per batch')\n",
    "    plt.show()"
   ]
  },
  {
   "cell_type": "markdown",
   "metadata": {},
   "source": [
    "Data Preprocessing\n",
    "------------------------------\n",
    "\n",
    "The following function takes as input the file path, the channel index and the quantity name as input and loads the appropriate data files. It then joins themains and the output quantity based on the timestamp values, extracts time features from the timestamp and splits the input and output into two arrays."
   ]
  },
  {
   "cell_type": "code",
   "execution_count": 6,
   "metadata": {},
   "outputs": [],
   "source": [
    "def loadData(path, index, name):\n",
    "    main11 = np.genfromtxt(path+'channel_1.dat', dtype = [int, float],)\n",
    "    main12 = np.genfromtxt(path1+'channel_2.dat', dtype = [int, float])\n",
    "    wash1 = np.genfromtxt(path1+'channel_'+index+'.dat', dtype = [int, float])\n",
    "    maindf1 = pd.DataFrame(main11)\n",
    "    maindf1.columns = [\"timestamp\", \"mains1\"]\n",
    "    maindf2 = pd.DataFrame(main12)\n",
    "    maindf2.columns = [\"timestamp\", \"mains2\"]\n",
    "    washdf1 = pd.DataFrame(wash1)\n",
    "    washdf1.columns = [\"timestamp\", name]\n",
    "    traindf1 = maindf1.merge(maindf2, on = ('timestamp'))\n",
    "    traindf1 = traindf1.merge(washdf1, how=\"inner\", on = ('timestamp'))\n",
    "    timevals = traindf1[\"timestamp\"]\n",
    "    traindf1[\"month\"] = timevals.apply(get_month)\n",
    "    traindf1[\"week\"] = timevals.apply(get_week)\n",
    "    traindf1[\"hour\"] = timevals.apply(get_hour)\n",
    "    traindf1[\"minute\"] = timevals.apply(get_minute)\n",
    "    traindf1[\"second\"] = timevals.apply(get_second)\n",
    "    mainR = scipy.io.loadmat(\"main_real.mat\")\n",
    "    mainI = scipy.io.loadmat(\"main_img.mat\")\n",
    "    main_real = mainR[\"main_real\"]\n",
    "    main_img = mainI[\"main_img\"]\n",
    "    #main_real = np.reshape(main_real,main_real.shape[0])\n",
    "    #main_img = np.reshape(main_img,main_img.shape[0])\n",
    "    y = traindf1[name].values\n",
    "    \n",
    "#     X = np.column_stack((traindf1[\"month\"].values,traindf1[\"week\"].values,\n",
    "#                      traindf1[\"hour\"].values,traindf1[\"minute\"].values,\n",
    "#                      traindf1[\"second\"].values,main_real, main_img))\n",
    "   \n",
    "    return y"
   ]
  },
  {
   "cell_type": "code",
   "execution_count": 22,
   "metadata": {},
   "outputs": [],
   "source": [
    "def create_seq(X):\n",
    "    res = []\n",
    "    for i in range(0,X.shape[0],1200):\n",
    "        res.append(X[i:i+1200,:])\n",
    "    res = np.array(res)\n",
    "    return res\n",
    "   "
   ]
  },
  {
   "cell_type": "markdown",
   "metadata": {},
   "source": [
    "Training and Testing\n",
    "-------------------------------\n",
    "\n",
    "The model is trained on the\"dishwasher\" appliance for house 1. The training set comprises 20000 samples and the testing set comprises 2000 samples. The loss curve is plotted. he predicted values are also plotted against the actual values forthe test set."
   ]
  },
  {
   "cell_type": "markdown",
   "metadata": {},
   "source": [
    "House 1:\n",
    "-------------"
   ]
  },
  {
   "cell_type": "code",
   "execution_count": 8,
   "metadata": {},
   "outputs": [],
   "source": [
    "path1 = (\"low_freq/house_1/\")\n",
    "y = loadData(path1, \"6\", \"dishwasher\")\n",
    "\n",
    "y = y.reshape(len(y), 1)\n",
    "\n",
    "X = scipy.io.loadmat(\"features1.mat\")\n",
    "X = X[\"feature\"]\n",
    "\n",
    "start = random.randrange(0, X.shape[0]-27601)\n",
    "X_train = X[start:start+24000,:]\n",
    "y_train = y[start:start+24000,:]\n",
    "\n",
    "#X_train,y_train = mini_batch(X,y,10000)\n",
    "X_test = X[start+24001:start+27601,:]\n",
    "y_test = y[start+24001:start+27601,:]\n",
    "\n",
    "#X_test,y_test = mini_batch(X,y,1000)\n",
    "X_train = normalize_data(X_train)\n",
    "X_test = normalize_data(X_test)\n",
    "#X_train = X_train.reshape(X_train.shape[0], X_train.shape[1], 1)\n",
    "#X_test = X_test.reshape(X_test.shape[0], X_test.shape[1], 1)\n"
   ]
  },
  {
   "cell_type": "code",
   "execution_count": 9,
   "metadata": {},
   "outputs": [
    {
     "data": {
      "text/plain": [
       "(3600, 5)"
      ]
     },
     "execution_count": 9,
     "metadata": {},
     "output_type": "execute_result"
    }
   ],
   "source": [
    "X_test.shape"
   ]
  },
  {
   "cell_type": "markdown",
   "metadata": {},
   "source": [
    "Model Specification\n",
    "-------------------------------\n",
    "The following function is used to create the model."
   ]
  },
  {
   "cell_type": "code",
   "execution_count": 10,
   "metadata": {},
   "outputs": [],
   "source": [
    "def init_model():\n",
    "    model = Sequential()\n",
    "    model.add(Conv1D(16, 4, activation=\"relu\", kernel_initializer=\"he_normal\",\n",
    "                    input_shape=(1200,5), padding=\"same\", strides=1))\n",
    "    #model.add(BatchNormalization())\n",
    "    model.add(Dropout(0.25))\n",
    "   \n",
    "    model.add(Bidirectional(LSTM(256, return_sequences=True,\n",
    "                                  stateful=False), merge_mode='concat'))\n",
    "    model.add(Bidirectional(LSTM(128, return_sequences=True, stateful=False), merge_mode='concat'))\n",
    "    model.add(Dropout(0.2))\n",
    "    model.add(Bidirectional(LSTM(128, return_sequences=True, stateful=False), merge_mode='concat'))\n",
    "    model.add(Dropout(0.2))\n",
    "    model.add(Bidirectional(LSTM(64, return_sequences=True, stateful=False), merge_mode='concat'))\n",
    "    model.add(Dropout(0.2))\n",
    "    model.add(Bidirectional(GRU(64, return_sequences=True, stateful=False), merge_mode='concat'))\n",
    "    model.add(Dropout(0.2))\n",
    "    model.add(Dense(128, activation='relu'))\n",
    "    model.add(Dropout(0.25))\n",
    "    model.add(Dense(1, activation='linear'))\n",
    "    model.add(Dropout(0.25))\n",
    "    model.compile(loss='mse', optimizer='adam')\n",
    "    return model"
   ]
  },
  {
   "cell_type": "code",
   "execution_count": 11,
   "metadata": {},
   "outputs": [
    {
     "name": "stderr",
     "output_type": "stream",
     "text": [
      "WARNING: Logging before flag parsing goes to stderr.\n",
      "W0817 00:00:15.890865  6832 deprecation_wrapper.py:119] From C:\\Users\\isisuser\\Anaconda3\\lib\\site-packages\\keras\\backend\\tensorflow_backend.py:74: The name tf.get_default_graph is deprecated. Please use tf.compat.v1.get_default_graph instead.\n",
      "\n",
      "W0817 00:00:15.904866  6832 deprecation_wrapper.py:119] From C:\\Users\\isisuser\\Anaconda3\\lib\\site-packages\\keras\\backend\\tensorflow_backend.py:517: The name tf.placeholder is deprecated. Please use tf.compat.v1.placeholder instead.\n",
      "\n",
      "W0817 00:00:15.907866  6832 deprecation_wrapper.py:119] From C:\\Users\\isisuser\\Anaconda3\\lib\\site-packages\\keras\\backend\\tensorflow_backend.py:4185: The name tf.truncated_normal is deprecated. Please use tf.random.truncated_normal instead.\n",
      "\n",
      "W0817 00:00:15.923867  6832 deprecation_wrapper.py:119] From C:\\Users\\isisuser\\Anaconda3\\lib\\site-packages\\keras\\backend\\tensorflow_backend.py:133: The name tf.placeholder_with_default is deprecated. Please use tf.compat.v1.placeholder_with_default instead.\n",
      "\n",
      "W0817 00:00:15.929867  6832 deprecation.py:506] From C:\\Users\\isisuser\\Anaconda3\\lib\\site-packages\\keras\\backend\\tensorflow_backend.py:3445: calling dropout (from tensorflow.python.ops.nn_ops) with keep_prob is deprecated and will be removed in a future version.\n",
      "Instructions for updating:\n",
      "Please use `rate` instead of `keep_prob`. Rate should be set to `rate = 1 - keep_prob`.\n",
      "W0817 00:00:15.941868  6832 deprecation_wrapper.py:119] From C:\\Users\\isisuser\\Anaconda3\\lib\\site-packages\\keras\\backend\\tensorflow_backend.py:4138: The name tf.random_uniform is deprecated. Please use tf.random.uniform instead.\n",
      "\n",
      "W0817 00:00:17.711969  6832 deprecation_wrapper.py:119] From C:\\Users\\isisuser\\Anaconda3\\lib\\site-packages\\keras\\optimizers.py:790: The name tf.train.Optimizer is deprecated. Please use tf.compat.v1.train.Optimizer instead.\n",
      "\n",
      "W0817 00:00:18.317004  6832 deprecation.py:323] From C:\\Users\\isisuser\\Anaconda3\\lib\\site-packages\\tensorflow\\python\\ops\\math_grad.py:1250: add_dispatch_support.<locals>.wrapper (from tensorflow.python.ops.array_ops) is deprecated and will be removed in a future version.\n",
      "Instructions for updating:\n",
      "Use tf.where in 2.0, which has the same broadcast rule as np.where\n"
     ]
    },
    {
     "name": "stdout",
     "output_type": "stream",
     "text": [
      "Train on 20 samples, validate on 3 samples\n",
      "Epoch 1/100\n",
      " - 19s - loss: 0.0543 - val_loss: 0.0987\n",
      "Epoch 2/100\n",
      " - 17s - loss: 0.1489 - val_loss: 0.0614\n",
      "Epoch 3/100\n",
      " - 18s - loss: 0.0873 - val_loss: 0.0248\n",
      "Epoch 4/100\n",
      " - 19s - loss: 0.0512 - val_loss: 0.0270\n",
      "Epoch 5/100\n",
      " - 19s - loss: 0.0553 - val_loss: 0.0241\n",
      "Epoch 6/100\n",
      " - 17s - loss: 0.0502 - val_loss: 0.0277\n",
      "Epoch 7/100\n",
      " - 20s - loss: 0.0523 - val_loss: 0.0257\n",
      "Epoch 8/100\n",
      " - 19s - loss: 0.0484 - val_loss: 0.0248\n",
      "Epoch 9/100\n",
      " - 20s - loss: 0.0470 - val_loss: 0.0252\n",
      "Epoch 10/100\n",
      " - 20s - loss: 0.0469 - val_loss: 0.0245\n",
      "Epoch 11/100\n",
      " - 20s - loss: 0.0461 - val_loss: 0.0245\n",
      "Epoch 12/100\n",
      " - 20s - loss: 0.0463 - val_loss: 0.0249\n",
      "Epoch 13/100\n",
      " - 21s - loss: 0.0467 - val_loss: 0.0244\n",
      "Epoch 14/100\n",
      " - 21s - loss: 0.0464 - val_loss: 0.0242\n",
      "Epoch 15/100\n",
      " - 21s - loss: 0.0455 - val_loss: 0.0244\n",
      "Epoch 16/100\n",
      " - 19s - loss: 0.0455 - val_loss: 0.0245\n",
      "Epoch 17/100\n",
      " - 21s - loss: 0.0456 - val_loss: 0.0244\n",
      "Epoch 18/100\n",
      " - 21s - loss: 0.0452 - val_loss: 0.0244\n",
      "Epoch 19/100\n",
      " - 21s - loss: 0.0450 - val_loss: 0.0244\n",
      "Epoch 20/100\n",
      " - 21s - loss: 0.0452 - val_loss: 0.0244\n",
      "Epoch 21/100\n",
      " - 21s - loss: 0.0449 - val_loss: 0.0245\n",
      "Epoch 22/100\n",
      " - 21s - loss: 0.0451 - val_loss: 0.0245\n",
      "Epoch 23/100\n",
      " - 20s - loss: 0.0449 - val_loss: 0.0244\n",
      "Epoch 24/100\n",
      " - 20s - loss: 0.0449 - val_loss: 0.0244\n",
      "Epoch 25/100\n",
      " - 20s - loss: 0.0449 - val_loss: 0.0244\n",
      "Epoch 26/100\n",
      " - 19s - loss: 0.0448 - val_loss: 0.0244\n",
      "Epoch 27/100\n",
      " - 20s - loss: 0.0447 - val_loss: 0.0244\n",
      "Epoch 28/100\n",
      " - 20s - loss: 0.0448 - val_loss: 0.0244\n",
      "Epoch 29/100\n",
      " - 20s - loss: 0.0449 - val_loss: 0.0245\n",
      "Epoch 30/100\n",
      " - 20s - loss: 0.0447 - val_loss: 0.0245\n",
      "Epoch 31/100\n",
      " - 19s - loss: 0.0448 - val_loss: 0.0246\n",
      "Epoch 32/100\n",
      " - 20s - loss: 0.0447 - val_loss: 0.0246\n",
      "Epoch 33/100\n",
      " - 20s - loss: 0.0448 - val_loss: 0.0246\n",
      "Epoch 34/100\n",
      " - 21s - loss: 0.0447 - val_loss: 0.0246\n",
      "Epoch 35/100\n",
      " - 21s - loss: 0.0446 - val_loss: 0.0246\n",
      "Epoch 36/100\n",
      " - 20s - loss: 0.0446 - val_loss: 0.0246\n",
      "Epoch 37/100\n",
      " - 21s - loss: 0.0445 - val_loss: 0.0246\n",
      "Epoch 38/100\n",
      " - 21s - loss: 0.0447 - val_loss: 0.0246\n",
      "Epoch 39/100\n",
      " - 20s - loss: 0.0446 - val_loss: 0.0245\n",
      "Epoch 40/100\n",
      " - 21s - loss: 0.0446 - val_loss: 0.0245\n",
      "Epoch 41/100\n",
      " - 20s - loss: 0.0445 - val_loss: 0.0245\n",
      "Epoch 42/100\n",
      " - 21s - loss: 0.0446 - val_loss: 0.0245\n",
      "Epoch 43/100\n",
      " - 22s - loss: 0.0445 - val_loss: 0.0245\n",
      "Epoch 44/100\n",
      " - 22s - loss: 0.0446 - val_loss: 0.0245\n",
      "Epoch 45/100\n",
      " - 20s - loss: 0.0444 - val_loss: 0.0245\n",
      "Epoch 46/100\n",
      " - 19s - loss: 0.0446 - val_loss: 0.0245\n",
      "Epoch 47/100\n",
      " - 19s - loss: 0.0444 - val_loss: 0.0245\n",
      "Epoch 48/100\n",
      " - 19s - loss: 0.0446 - val_loss: 0.0245\n",
      "Epoch 49/100\n",
      " - 19s - loss: 0.0444 - val_loss: 0.0246\n",
      "Epoch 50/100\n",
      " - 21s - loss: 0.0445 - val_loss: 0.0246\n",
      "Epoch 51/100\n",
      " - 20s - loss: 0.0444 - val_loss: 0.0246\n",
      "Epoch 52/100\n",
      " - 20s - loss: 0.0445 - val_loss: 0.0246\n",
      "Epoch 53/100\n",
      " - 21s - loss: 0.0445 - val_loss: 0.0246\n",
      "Epoch 54/100\n",
      " - 21s - loss: 0.0444 - val_loss: 0.0246\n",
      "Epoch 55/100\n",
      " - 20s - loss: 0.0444 - val_loss: 0.0246\n",
      "Epoch 56/100\n",
      " - 22s - loss: 0.0445 - val_loss: 0.0246\n",
      "Epoch 57/100\n",
      " - 20s - loss: 0.0445 - val_loss: 0.0245\n",
      "Epoch 58/100\n",
      " - 20s - loss: 0.0444 - val_loss: 0.0245\n",
      "Epoch 59/100\n",
      " - 21s - loss: 0.0445 - val_loss: 0.0245\n",
      "Epoch 60/100\n",
      " - 21s - loss: 0.0444 - val_loss: 0.0245\n",
      "Epoch 61/100\n",
      " - 21s - loss: 0.0443 - val_loss: 0.0245\n",
      "Epoch 62/100\n",
      " - 20s - loss: 0.0444 - val_loss: 0.0245\n",
      "Epoch 63/100\n",
      " - 21s - loss: 0.0443 - val_loss: 0.0245\n",
      "Epoch 64/100\n",
      " - 20s - loss: 0.0445 - val_loss: 0.0245\n",
      "Epoch 65/100\n",
      " - 20s - loss: 0.0445 - val_loss: 0.0245\n",
      "Epoch 66/100\n",
      " - 20s - loss: 0.0444 - val_loss: 0.0245\n",
      "Epoch 67/100\n",
      " - 19s - loss: 0.0444 - val_loss: 0.0245\n",
      "Epoch 68/100\n",
      " - 21s - loss: 0.0444 - val_loss: 0.0245\n",
      "Epoch 69/100\n",
      " - 20s - loss: 0.0442 - val_loss: 0.0245\n",
      "Epoch 70/100\n",
      " - 21s - loss: 0.0444 - val_loss: 0.0246\n",
      "Epoch 71/100\n",
      " - 20s - loss: 0.0444 - val_loss: 0.0246\n",
      "Epoch 72/100\n",
      " - 20s - loss: 0.0445 - val_loss: 0.0246\n",
      "Epoch 73/100\n",
      " - 21s - loss: 0.0444 - val_loss: 0.0246\n",
      "Epoch 74/100\n",
      " - 20s - loss: 0.0444 - val_loss: 0.0246\n",
      "Epoch 75/100\n",
      " - 21s - loss: 0.0443 - val_loss: 0.0246\n",
      "Epoch 76/100\n",
      " - 20s - loss: 0.0445 - val_loss: 0.0246\n",
      "Epoch 77/100\n",
      " - 20s - loss: 0.0444 - val_loss: 0.0245\n",
      "Epoch 78/100\n",
      " - 22s - loss: 0.0443 - val_loss: 0.0245\n",
      "Epoch 79/100\n",
      " - 21s - loss: 0.0444 - val_loss: 0.0245\n",
      "Epoch 80/100\n",
      " - 21s - loss: 0.0444 - val_loss: 0.0246\n",
      "Epoch 81/100\n",
      " - 21s - loss: 0.0444 - val_loss: 0.0246\n",
      "Epoch 82/100\n",
      " - 21s - loss: 0.0443 - val_loss: 0.0246\n",
      "Epoch 83/100\n",
      " - 20s - loss: 0.0445 - val_loss: 0.0246\n",
      "Epoch 84/100\n",
      " - 21s - loss: 0.0443 - val_loss: 0.0246\n",
      "Epoch 85/100\n",
      " - 22s - loss: 0.0443 - val_loss: 0.0246\n",
      "Epoch 86/100\n",
      " - 22s - loss: 0.0444 - val_loss: 0.0246\n",
      "Epoch 87/100\n",
      " - 21s - loss: 0.0442 - val_loss: 0.0246\n",
      "Epoch 88/100\n",
      " - 20s - loss: 0.0444 - val_loss: 0.0246\n",
      "Epoch 89/100\n",
      " - 20s - loss: 0.0444 - val_loss: 0.0245\n",
      "Epoch 90/100\n",
      " - 20s - loss: 0.0445 - val_loss: 0.0245\n",
      "Epoch 91/100\n",
      " - 21s - loss: 0.0444 - val_loss: 0.0245\n",
      "Epoch 92/100\n",
      " - 22s - loss: 0.0443 - val_loss: 0.0245\n",
      "Epoch 93/100\n",
      " - 20s - loss: 0.0443 - val_loss: 0.0245\n",
      "Epoch 94/100\n",
      " - 20s - loss: 0.0443 - val_loss: 0.0245\n",
      "Epoch 95/100\n",
      " - 21s - loss: 0.0443 - val_loss: 0.0245\n",
      "Epoch 96/100\n",
      " - 21s - loss: 0.0444 - val_loss: 0.0246\n",
      "Epoch 97/100\n",
      " - 21s - loss: 0.0441 - val_loss: 0.0246\n",
      "Epoch 98/100\n",
      " - 21s - loss: 0.0442 - val_loss: 0.0246\n",
      "Epoch 99/100\n",
      " - 20s - loss: 0.0442 - val_loss: 0.0246\n",
      "Epoch 100/100\n",
      " - 20s - loss: 0.0442 - val_loss: 0.0246\n",
      "3/3 [==============================] - 2s 554ms/step\n",
      "0.02461446262896061\n"
     ]
    },
    {
     "data": {
      "image/png": "[encoded data removed]",
      "text/plain": [
       "<Figure size 432x288 with 1 Axes>"
      ]
     },
     "metadata": {
      "needs_background": "light"
     },
     "output_type": "display_data"
    }
   ],
   "source": [
    "model = init_model()\n",
    "history = LossHistory()\n",
    "X_train = create_seq(X_train)\n",
    "y_train = create_seq(y_train)\n",
    "X_test = create_seq(X_test)\n",
    "y_test = create_seq(y_test)\n",
    "model.fit(X_train, y_train, epochs=100, batch_size=64,\n",
    "                callbacks=[history],\n",
    "                validation_data=(X_test,y_test), verbose=2)\n",
    "score = model.evaluate(X_test, y_test, batch_size=64)\n",
    "print(score)\n",
    "plot_losses(history.losses)\n",
    "\n",
    "y_pred = model.predict(X_test)"
   ]
  },
  {
   "cell_type": "code",
   "execution_count": 12,
   "metadata": {
    "scrolled": false
   },
   "outputs": [
    {
     "data": {
      "image/png": "[encoded data removed]",
      "text/plain": [
       "<Figure size 432x288 with 1 Axes>"
      ]
     },
     "metadata": {
      "needs_background": "light"
     },
     "output_type": "display_data"
    },
    {
     "data": {
      "image/png": "[encoded data removed]",
      "text/plain": [
       "<Figure size 432x288 with 1 Axes>"
      ]
     },
     "metadata": {
      "needs_background": "light"
     },
     "output_type": "display_data"
    },
    {
     "data": {
      "image/png": "[encoded data removed]",
      "text/plain": [
       "<Figure size 432x288 with 1 Axes>"
      ]
     },
     "metadata": {
      "needs_background": "light"
     },
     "output_type": "display_data"
    }
   ],
   "source": [
    "for i in range(len(y_test)):\n",
    "    samples = range(len(y_test[i]))\n",
    "    plt.plot(samples,y_test[i], color='blue', linewidth=1, label = 'Observed') \n",
    "    plt.plot(samples,y_pred[i], color='red', linewidth=2, label = 'Predicted') \n",
    "    plt.title('Linear Regression')\n",
    "    plt.legend()\n",
    "    plt.xlabel('Samples')\n",
    "    plt.ylabel('Power')\n",
    "    plt.show()"
   ]
  },
  {
   "cell_type": "markdown",
   "metadata": {},
   "source": [
    "=================================== X ===================================\n",
    "-----------"
   ]
  },
  {
   "cell_type": "markdown",
   "metadata": {},
   "source": [
    "House 2: \n",
    "-------------    "
   ]
  },
  {
   "cell_type": "markdown",
   "metadata": {},
   "source": [
    "Data Preprocessing\n",
    "------------------------------\n",
    "\n",
    "The following function takes as input the file path, the channel index and the quantity name as input and loads the appropriate data files. It then joins themains and the output quantity based on the timestamp values, extracts time features from the timestamp and splits the input and output into two arrays."
   ]
  },
  {
   "cell_type": "code",
   "execution_count": 23,
   "metadata": {},
   "outputs": [],
   "source": [
    "def loadData(path, index, name):\n",
    "    main11 = np.genfromtxt(path+'channel_1.dat', dtype = [int, float],)\n",
    "    main12 = np.genfromtxt(path1+'channel_2.dat', dtype = [int, float])\n",
    "    wash1 = np.genfromtxt(path1+'channel_'+index+'.dat', dtype = [int, float])\n",
    "    maindf1 = pd.DataFrame(main11)\n",
    "    maindf1.columns = [\"timestamp\", \"mains1\"]\n",
    "    maindf2 = pd.DataFrame(main12)\n",
    "    maindf2.columns = [\"timestamp\", \"mains2\"]\n",
    "    washdf1 = pd.DataFrame(wash1)\n",
    "    washdf1.columns = [\"timestamp\", name]\n",
    "    traindf1 = maindf1.merge(maindf2, on = ('timestamp'))\n",
    "    traindf1 = traindf1.merge(washdf1, how=\"inner\", on = ('timestamp'))\n",
    "    timevals = traindf1[\"timestamp\"]\n",
    "    traindf1[\"month\"] = timevals.apply(get_month)\n",
    "    traindf1[\"week\"] = timevals.apply(get_week)\n",
    "    traindf1[\"hour\"] = timevals.apply(get_hour)\n",
    "    traindf1[\"minute\"] = timevals.apply(get_minute)\n",
    "    traindf1[\"second\"] = timevals.apply(get_second)\n",
    "   \n",
    "    #main_real = np.reshape(main_real,main_real.shape[0])\n",
    "    #main_img = np.reshape(main_img,main_img.shape[0])\n",
    "    y = traindf1[name].values\n",
    "    \n",
    "    X = np.column_stack((traindf1[\"month\"].values,traindf1[\"week\"].values,\n",
    "                     traindf1[\"hour\"].values,traindf1[\"minute\"].values,\n",
    "                     traindf1[\"second\"].values,traindf1[\"mains1\"].values,\n",
    "                     traindf1[\"mains2\"].values))\n",
    "   \n",
    "    return X,y"
   ]
  },
  {
   "cell_type": "code",
   "execution_count": 25,
   "metadata": {},
   "outputs": [
    {
     "ename": "AttributeError",
     "evalue": "'tuple' object has no attribute 'reshape'",
     "output_type": "error",
     "traceback": [
      "\u001b[1;31m---------------------------------------------------------------------------\u001b[0m",
      "\u001b[1;31mAttributeError\u001b[0m                            Traceback (most recent call last)",
      "\u001b[1;32m<ipython-input-25-cb16d15709c9>\u001b[0m in \u001b[0;36m<module>\u001b[1;34m\u001b[0m\n\u001b[0;32m      1\u001b[0m \u001b[0mpath2\u001b[0m \u001b[1;33m=\u001b[0m \u001b[1;33m(\u001b[0m\u001b[1;34m\"low_freq/house_2/\"\u001b[0m\u001b[1;33m)\u001b[0m\u001b[1;33m\u001b[0m\u001b[1;33m\u001b[0m\u001b[0m\n\u001b[0;32m      2\u001b[0m \u001b[0my2\u001b[0m \u001b[1;33m=\u001b[0m \u001b[0mloadData\u001b[0m\u001b[1;33m(\u001b[0m\u001b[0mpath2\u001b[0m\u001b[1;33m,\u001b[0m \u001b[1;34m\"10\"\u001b[0m\u001b[1;33m,\u001b[0m \u001b[1;34m\"dishwasher\"\u001b[0m\u001b[1;33m)\u001b[0m\u001b[1;33m\u001b[0m\u001b[1;33m\u001b[0m\u001b[0m\n\u001b[1;32m----> 3\u001b[1;33m \u001b[0my2\u001b[0m \u001b[1;33m=\u001b[0m \u001b[0my2\u001b[0m\u001b[1;33m.\u001b[0m\u001b[0mreshape\u001b[0m\u001b[1;33m(\u001b[0m\u001b[0mlen\u001b[0m\u001b[1;33m(\u001b[0m\u001b[0my2\u001b[0m\u001b[1;33m)\u001b[0m\u001b[1;33m,\u001b[0m \u001b[1;36m1\u001b[0m\u001b[1;33m)\u001b[0m\u001b[1;33m\u001b[0m\u001b[1;33m\u001b[0m\u001b[0m\n\u001b[0m\u001b[0;32m      4\u001b[0m \u001b[1;33m\u001b[0m\u001b[0m\n\u001b[0;32m      5\u001b[0m \u001b[0mX2\u001b[0m \u001b[1;33m=\u001b[0m \u001b[0mscipy\u001b[0m\u001b[1;33m.\u001b[0m\u001b[0mio\u001b[0m\u001b[1;33m.\u001b[0m\u001b[0mloadmat\u001b[0m\u001b[1;33m(\u001b[0m\u001b[1;34m\"features2.mat\"\u001b[0m\u001b[1;33m)\u001b[0m\u001b[1;33m\u001b[0m\u001b[1;33m\u001b[0m\u001b[0m\n",
      "\u001b[1;31mAttributeError\u001b[0m: 'tuple' object has no attribute 'reshape'"
     ]
    }
   ],
   "source": [
    "path2 = (\"low_freq/house_2/\")\n",
    "y2 = loadData(path2, \"10\", \"dishwasher\")\n",
    "y2 = y2.reshape(len(y2), 1)\n",
    "\n",
    "X2 = scipy.io.loadmat(\"features2.mat\")\n",
    "X2 = X2['feature']\n",
    "\n",
    "start = random.randrange(0, X.shape[0]-27601)\n",
    "X_train = X2[start:start+24000,:]\n",
    "y_train = y2[start:start+24000,:]\n",
    "\n",
    "#X_train,y_train = mini_batch(X,y,10000)\n",
    "X_test = X2[start+24001:start+27601,:]\n",
    "y_test = y2[start+24001:start+27601,:]\n",
    "\n",
    "#X_test,y_test = mini_batch(X,y,1000)\n",
    "X_train = normalize_data(X_train)\n",
    "X_test = normalize_data(X_test)\n",
    "#X_train = X_train.reshape(X_train.shape[0], X_train.shape[1], 1)\n",
    "#X_test = X_test.reshape(X_test.shape[0], X_test.shape[1], 1)\n"
   ]
  },
  {
   "cell_type": "markdown",
   "metadata": {},
   "source": [
    "Model Specification\n",
    "-------------------------------\n",
    "The following function is used to create the model."
   ]
  },
  {
   "cell_type": "code",
   "execution_count": null,
   "metadata": {},
   "outputs": [],
   "source": [
    "def init_model():\n",
    "    model = Sequential()\n",
    "    model.add(Conv1D(16, 4, activation=\"relu\", kernel_initializer=\"he_normal\",\n",
    "                    input_shape=(1200,7), padding=\"same\", strides=1))\n",
    "    #model.add(BatchNormalization())\n",
    "    model.add(Dropout(0.25))\n",
    "   \n",
    "    model.add(Bidirectional(LSTM(256, return_sequences=True,\n",
    "                                  stateful=False), merge_mode='concat'))\n",
    "    model.add(Bidirectional(LSTM(128, return_sequences=True, stateful=False), merge_mode='concat'))\n",
    "    model.add(Dropout(0.2))\n",
    "    model.add(Bidirectional(LSTM(128, return_sequences=True, stateful=False), merge_mode='concat'))\n",
    "    model.add(Dropout(0.2))\n",
    "    model.add(Bidirectional(LSTM(64, return_sequences=True, stateful=False), merge_mode='concat'))\n",
    "    model.add(Dropout(0.2))\n",
    "    model.add(Bidirectional(GRU(64, return_sequences=True, stateful=False), merge_mode='concat'))\n",
    "    model.add(Dropout(0.2))\n",
    "    model.add(Dense(128, activation='relu'))\n",
    "    model.add(Dropout(0.25))\n",
    "    model.add(Dense(1, activation='linear'))\n",
    "    model.add(Dropout(0.25))\n",
    "    model.compile(loss='mse', optimizer='adam')\n",
    "    return model"
   ]
  },
  {
   "cell_type": "code",
   "execution_count": null,
   "metadata": {},
   "outputs": [],
   "source": [
    "model = init_model()\n",
    "history = LossHistory()\n",
    "X_train = create_seq(X_train)\n",
    "y_train = create_seq(y_train)\n",
    "X_test = create_seq(X_test)\n",
    "y_test = create_seq(y_test)\n",
    "model.fit(X_train, y_train, epochs=100, batch_size=64,\n",
    "                callbacks=[history],\n",
    "                validation_data=(X_test,y_test), verbose=2)\n",
    "score = model.evaluate(X_test, y_test, batch_size=64)\n",
    "print(score)\n",
    "plot_losses(history.losses)\n",
    "\n",
    "y_pred = model.predict(X_test)"
   ]
  },
  {
   "cell_type": "code",
   "execution_count": null,
   "metadata": {
    "scrolled": false
   },
   "outputs": [],
   "source": [
    "for i in range(len(y_test)):\n",
    "    samples = range(len(y_test[i]))\n",
    "    plt.plot(samples,y_test[i], color='blue', linewidth=1, label = 'Observed') \n",
    "    plt.plot(samples,y_pred[i], color='red', linewidth=2, label = 'Predicted') \n",
    "    plt.title('Linear Regression')\n",
    "    plt.legend()\n",
    "    plt.xlabel('Samples')\n",
    "    plt.ylabel('Power')\n",
    "    plt.show()"
   ]
  },
  {
   "cell_type": "markdown",
   "metadata": {},
   "source": [
    "================================ X ================================\n",
    "------"
   ]
  },
  {
   "cell_type": "code",
   "execution_count": 24,
   "metadata": {},
   "outputs": [],
   "source": [
    "mainR = scipy.io.loadmat('main_real.mat')\n",
    "mainI = scipy.io.loadmat('main_img.mat')\n",
    "main_real = mainR['main_real']\n",
    "main_img = mainI['main_img']"
   ]
  },
  {
   "cell_type": "code",
   "execution_count": 25,
   "metadata": {},
   "outputs": [
    {
     "data": {
      "text/plain": [
       "(406748, 1)"
      ]
     },
     "execution_count": 25,
     "metadata": {},
     "output_type": "execute_result"
    }
   ],
   "source": [
    "main_img.shape"
   ]
  },
  {
   "cell_type": "code",
   "execution_count": 9,
   "metadata": {},
   "outputs": [],
   "source": [
    "path1 = (\"low_freq/house_2/\")\n",
    "X, y = loadData(path1, \"10\", \"dishwasher\")\n",
    "mainR = scipy.io.loadmat(\"main_real.mat\")\n",
    "mainI = scipy.io.loadmat(\"main_img.mat\")\n",
    "main_real = mainR[\"main_real\"]\n",
    "main_img = mainI[\"main_img\"]"
   ]
  },
  {
   "cell_type": "code",
   "execution_count": 10,
   "metadata": {},
   "outputs": [
    {
     "data": {
      "text/plain": [
       "(316840, 5)"
      ]
     },
     "execution_count": 10,
     "metadata": {},
     "output_type": "execute_result"
    }
   ],
   "source": [
    "X.shape"
   ]
  },
  {
   "cell_type": "code",
   "execution_count": null,
   "metadata": {},
   "outputs": [],
   "source": []
  }
 ],
 "metadata": {
  "kernelspec": {
   "display_name": "Python 3",
   "language": "python",
   "name": "python3"
  },
  "language_info": {
   "codemirror_mode": {
    "name": "ipython",
    "version": 3
   },
   "file_extension": ".py",
   "mimetype": "text/x-python",
   "name": "python",
   "nbconvert_exporter": "python",
   "pygments_lexer": "ipython3",
   "version": "3.7.3"
  }
 },
 "nbformat": 4,
 "nbformat_minor": 2
}
